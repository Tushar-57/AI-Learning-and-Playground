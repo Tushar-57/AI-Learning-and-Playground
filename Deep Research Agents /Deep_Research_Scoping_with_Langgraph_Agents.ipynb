{
    "nbformat": 4,
    "nbformat_minor": 0,
    "metadata": {
        "colab": {
            "provenance": []
        },
        "kernelspec": {
            "name": "python3",
            "display_name": "Python 3"
        },
        "language_info": {
            "name": "python"
        },
    },
    "cells": [
        {
            "cell_type": "code",
            "execution_count": 2,
            "metadata": {
                "colab": {
                    "base_uri": "https://localhost:8080/"
                },
                "id": "QHjMj_VYT3rV",
                "outputId": "21115b5d-ca0d-4af6-d261-b9369bbadab0"
            },
            "outputs": [
                {
                    "output_type": "stream",
                    "name": "stdout",
                    "text": [
                        "\u001b[1m\u001b[33mwarning\u001b[39m\u001b[0m\u001b[1m:\u001b[0m \u001b[1mThe `--system` flag has no effect, a system Python interpreter is always used in `uv venv`\u001b[0m\n",
                        "Using CPython 3.11.13 interpreter at: \u001b[36m/usr/bin/python3\u001b[39m\n",
                        "Creating virtual environment at: \u001b[36m.venv\u001b[39m\n",
                        "Activate with: \u001b[32msource .venv/bin/activate\u001b[39m\n"
                    ]
                }
            ],
            "source": [
                "!uv venv --python 3.11"
            ]
        },
        {
            "cell_type": "code",
            "source": [
                "!curl -LsSf https://astral.sh/uv/install.sh | sh"
            ],
            "metadata": {
                "colab": {
                    "base_uri": "https://localhost:8080/"
                },
                "id": "-urOC29vUFr0",
                "outputId": "c5ee19a1-9075-4e4f-f483-42f45435ab2f"
            },
            "execution_count": 3,
            "outputs": [
                {
                    "output_type": "stream",
                    "name": "stdout",
                    "text": [
                        "downloading uv 0.8.11 x86_64-unknown-linux-gnu\n",
                        "no checksums to verify\n",
                        "installing to /usr/local/bin\n",
                        "  uv\n",
                        "  uvx\n",
                        "everything's installed!\n"
                    ]
                }
            ]
        },
        {
            "cell_type": "markdown",
            "source": [
                "####Agents are well suited to research because they can flexibly apply different strategies, using intermediate results to guide their exploration. Open deep research uses an agent to conduct research as part of a three step process:\n",
                "\n",
                "- Scope – clarify research scope\n",
                "- Research – perform research\n",
                "- Write – produce the final report\n"
            ],
            "metadata": {
                "id": "2a5svofLUjm1"
            }
        },
        {
            "cell_type": "markdown",
            "source": [
                "##What we are going to do in this notebook:\n",
                "**Clarify research scope and transform user input into structured research briefs**\n",
                "\n",
                "Key Concepts:\n",
                "\n",
                "- User Clarification: Determines if additional context is needed from the user using structured output\n",
                "- Brief Generation: Transforms conversations into detailed research questions\n",
                "- LangGraph Commands: Using Command system for flow control and state updates\n",
                "- Structured Output: Pydantic schemas for reliable decision making"
            ],
            "metadata": {
                "id": "ETlufPwAVa6-"
            }
        },
        {
            "cell_type": "code",
            "source": [
                "!pip install langchain langchain-openai langchain-core langgraph python-dotenv\n",
                "from dotenv import load_dotenv\n",
                "load_dotenv()\n",
                "\n",
                "%load_ext autoreload\n",
                "%autoreload 2\n"
            ],
            "metadata": {
                "colab": {
                    "base_uri": "https://localhost:8080/"
                },
                "id": "H87KrwLgVasp",
                "outputId": "0ed56555-4b62-4a27-c6ff-3cfa9446364e"
            },
            "execution_count": 7,
            "outputs": [
                {
                    "output_type": "stream",
                    "name": "stdout",
                    "text": [
                        "Requirement already satisfied: langchain in /usr/local/lib/python3.11/dist-packages (0.3.27)\n",
                        "Collecting langchain-openai\n",
                        "  Downloading langchain_openai-0.3.30-py3-none-any.whl.metadata (2.4 kB)\n",
                        "Requirement already satisfied: langchain-core in /usr/local/lib/python3.11/dist-packages (0.3.74)\n",
                        "Collecting langgraph\n",
                        "  Downloading langgraph-0.6.5-py3-none-any.whl.metadata (6.8 kB)\n",
                        "Collecting python-dotenv\n",
                        "  Downloading python_dotenv-1.1.1-py3-none-any.whl.metadata (24 kB)\n",
                        "Requirement already satisfied: langchain-text-splitters<1.0.0,>=0.3.9 in /usr/local/lib/python3.11/dist-packages (from langchain) (0.3.9)\n",
                        "Requirement already satisfied: langsmith>=0.1.17 in /usr/local/lib/python3.11/dist-packages (from langchain) (0.4.14)\n",
                        "Requirement already satisfied: pydantic<3.0.0,>=2.7.4 in /usr/local/lib/python3.11/dist-packages (from langchain) (2.11.7)\n",
                        "Requirement already satisfied: SQLAlchemy<3,>=1.4 in /usr/local/lib/python3.11/dist-packages (from langchain) (2.0.43)\n",
                        "Requirement already satisfied: requests<3,>=2 in /usr/local/lib/python3.11/dist-packages (from langchain) (2.32.3)\n",
                        "Requirement already satisfied: PyYAML>=5.3 in /usr/local/lib/python3.11/dist-packages (from langchain) (6.0.2)\n",
                        "Requirement already satisfied: openai<2.0.0,>=1.99.9 in /usr/local/lib/python3.11/dist-packages (from langchain-openai) (1.99.9)\n",
                        "Requirement already satisfied: tiktoken<1,>=0.7 in /usr/local/lib/python3.11/dist-packages (from langchain-openai) (0.11.0)\n",
                        "Requirement already satisfied: tenacity!=8.4.0,<10.0.0,>=8.1.0 in /usr/local/lib/python3.11/dist-packages (from langchain-core) (9.1.2)\n",
                        "Requirement already satisfied: jsonpatch<2.0,>=1.33 in /usr/local/lib/python3.11/dist-packages (from langchain-core) (1.33)\n",
                        "Requirement already satisfied: typing-extensions>=4.7 in /usr/local/lib/python3.11/dist-packages (from langchain-core) (4.14.1)\n",
                        "Requirement already satisfied: packaging>=23.2 in /usr/local/lib/python3.11/dist-packages (from langchain-core) (25.0)\n",
                        "Collecting langgraph-checkpoint<3.0.0,>=2.1.0 (from langgraph)\n",
                        "  Downloading langgraph_checkpoint-2.1.1-py3-none-any.whl.metadata (4.2 kB)\n",
                        "Collecting langgraph-prebuilt<0.7.0,>=0.6.0 (from langgraph)\n",
                        "  Downloading langgraph_prebuilt-0.6.4-py3-none-any.whl.metadata (4.5 kB)\n",
                        "Collecting langgraph-sdk<0.3.0,>=0.2.0 (from langgraph)\n",
                        "  Downloading langgraph_sdk-0.2.0-py3-none-any.whl.metadata (1.5 kB)\n",
                        "Requirement already satisfied: xxhash>=3.5.0 in /usr/local/lib/python3.11/dist-packages (from langgraph) (3.5.0)\n",
                        "Requirement already satisfied: jsonpointer>=1.9 in /usr/local/lib/python3.11/dist-packages (from jsonpatch<2.0,>=1.33->langchain-core) (3.0.0)\n",
                        "Collecting ormsgpack>=1.10.0 (from langgraph-checkpoint<3.0.0,>=2.1.0->langgraph)\n",
                        "  Downloading ormsgpack-1.10.0-cp311-cp311-manylinux_2_17_x86_64.manylinux2014_x86_64.whl.metadata (43 kB)\n",
                        "\u001b[2K     \u001b[90m━━━━━━━━━━━━━━━━━━━━━━━━━━━━━━━━━━━━━━━━\u001b[0m \u001b[32m43.7/43.7 kB\u001b[0m \u001b[31m3.1 MB/s\u001b[0m eta \u001b[36m0:00:00\u001b[0m\n",
                        "\u001b[?25hRequirement already satisfied: httpx>=0.25.2 in /usr/local/lib/python3.11/dist-packages (from langgraph-sdk<0.3.0,>=0.2.0->langgraph) (0.28.1)\n",
                        "Requirement already satisfied: orjson>=3.10.1 in /usr/local/lib/python3.11/dist-packages (from langgraph-sdk<0.3.0,>=0.2.0->langgraph) (3.11.2)\n",
                        "Requirement already satisfied: requests-toolbelt>=1.0.0 in /usr/local/lib/python3.11/dist-packages (from langsmith>=0.1.17->langchain) (1.0.0)\n",
                        "Requirement already satisfied: zstandard>=0.23.0 in /usr/local/lib/python3.11/dist-packages (from langsmith>=0.1.17->langchain) (0.23.0)\n",
                        "Requirement already satisfied: anyio<5,>=3.5.0 in /usr/local/lib/python3.11/dist-packages (from openai<2.0.0,>=1.99.9->langchain-openai) (4.10.0)\n",
                        "Requirement already satisfied: distro<2,>=1.7.0 in /usr/local/lib/python3.11/dist-packages (from openai<2.0.0,>=1.99.9->langchain-openai) (1.9.0)\n",
                        "Requirement already satisfied: jiter<1,>=0.4.0 in /usr/local/lib/python3.11/dist-packages (from openai<2.0.0,>=1.99.9->langchain-openai) (0.10.0)\n",
                        "Requirement already satisfied: sniffio in /usr/local/lib/python3.11/dist-packages (from openai<2.0.0,>=1.99.9->langchain-openai) (1.3.1)\n",
                        "Requirement already satisfied: tqdm>4 in /usr/local/lib/python3.11/dist-packages (from openai<2.0.0,>=1.99.9->langchain-openai) (4.67.1)\n",
                        "Requirement already satisfied: annotated-types>=0.6.0 in /usr/local/lib/python3.11/dist-packages (from pydantic<3.0.0,>=2.7.4->langchain) (0.7.0)\n",
                        "Requirement already satisfied: pydantic-core==2.33.2 in /usr/local/lib/python3.11/dist-packages (from pydantic<3.0.0,>=2.7.4->langchain) (2.33.2)\n",
                        "Requirement already satisfied: typing-inspection>=0.4.0 in /usr/local/lib/python3.11/dist-packages (from pydantic<3.0.0,>=2.7.4->langchain) (0.4.1)\n",
                        "Requirement already satisfied: charset-normalizer<4,>=2 in /usr/local/lib/python3.11/dist-packages (from requests<3,>=2->langchain) (3.4.3)\n",
                        "Requirement already satisfied: idna<4,>=2.5 in /usr/local/lib/python3.11/dist-packages (from requests<3,>=2->langchain) (3.10)\n",
                        "Requirement already satisfied: urllib3<3,>=1.21.1 in /usr/local/lib/python3.11/dist-packages (from requests<3,>=2->langchain) (2.5.0)\n",
                        "Requirement already satisfied: certifi>=2017.4.17 in /usr/local/lib/python3.11/dist-packages (from requests<3,>=2->langchain) (2025.8.3)\n",
                        "Requirement already satisfied: greenlet>=1 in /usr/local/lib/python3.11/dist-packages (from SQLAlchemy<3,>=1.4->langchain) (3.2.4)\n",
                        "Requirement already satisfied: regex>=2022.1.18 in /usr/local/lib/python3.11/dist-packages (from tiktoken<1,>=0.7->langchain-openai) (2024.11.6)\n",
                        "Requirement already satisfied: httpcore==1.* in /usr/local/lib/python3.11/dist-packages (from httpx>=0.25.2->langgraph-sdk<0.3.0,>=0.2.0->langgraph) (1.0.9)\n",
                        "Requirement already satisfied: h11>=0.16 in /usr/local/lib/python3.11/dist-packages (from httpcore==1.*->httpx>=0.25.2->langgraph-sdk<0.3.0,>=0.2.0->langgraph) (0.16.0)\n",
                        "Downloading langchain_openai-0.3.30-py3-none-any.whl (74 kB)\n",
                        "\u001b[2K   \u001b[90m━━━━━━━━━━━━━━━━━━━━━━━━━━━━━━━━━━━━━━━━\u001b[0m \u001b[32m74.4/74.4 kB\u001b[0m \u001b[31m5.8 MB/s\u001b[0m eta \u001b[36m0:00:00\u001b[0m\n",
                        "\u001b[?25hDownloading langgraph-0.6.5-py3-none-any.whl (153 kB)\n",
                        "\u001b[2K   \u001b[90m━━━━━━━━━━━━━━━━━━━━━━━━━━━━━━━━━━━━━━━━\u001b[0m \u001b[32m153.2/153.2 kB\u001b[0m \u001b[31m7.3 MB/s\u001b[0m eta \u001b[36m0:00:00\u001b[0m\n",
                        "\u001b[?25hDownloading python_dotenv-1.1.1-py3-none-any.whl (20 kB)\n",
                        "Downloading langgraph_checkpoint-2.1.1-py3-none-any.whl (43 kB)\n",
                        "\u001b[2K   \u001b[90m━━━━━━━━━━━━━━━━━━━━━━━━━━━━━━━━━━━━━━━━\u001b[0m \u001b[32m43.9/43.9 kB\u001b[0m \u001b[31m3.0 MB/s\u001b[0m eta \u001b[36m0:00:00\u001b[0m\n",
                        "\u001b[?25hDownloading langgraph_prebuilt-0.6.4-py3-none-any.whl (28 kB)\n",
                        "Downloading langgraph_sdk-0.2.0-py3-none-any.whl (50 kB)\n",
                        "\u001b[2K   \u001b[90m━━━━━━━━━━━━━━━━━━━━━━━━━━━━━━━━━━━━━━━━\u001b[0m \u001b[32m50.6/50.6 kB\u001b[0m \u001b[31m4.1 MB/s\u001b[0m eta \u001b[36m0:00:00\u001b[0m\n",
                        "\u001b[?25hDownloading ormsgpack-1.10.0-cp311-cp311-manylinux_2_17_x86_64.manylinux2014_x86_64.whl (216 kB)\n",
                        "\u001b[2K   \u001b[90m━━━━━━━━━━━━━━━━━━━━━━━━━━━━━━━━━━━━━━━━\u001b[0m \u001b[32m216.5/216.5 kB\u001b[0m \u001b[31m17.1 MB/s\u001b[0m eta \u001b[36m0:00:00\u001b[0m\n",
                        "\u001b[?25hInstalling collected packages: python-dotenv, ormsgpack, langgraph-sdk, langgraph-checkpoint, langchain-openai, langgraph-prebuilt, langgraph\n",
                        "Successfully installed langchain-openai-0.3.30 langgraph-0.6.5 langgraph-checkpoint-2.1.1 langgraph-prebuilt-0.6.4 langgraph-sdk-0.2.0 ormsgpack-1.10.0 python-dotenv-1.1.1\n"
                    ]
                }
            ]
        },
        {
            "cell_type": "markdown",
            "source": [
                "##1st Step is Scoping:\n",
                "\n",
                "It has 2 steps:\n",
                "1. User Clarification - Determines if additional clarification is needed from the user\n",
                "2. Brief Generation - Transforms the conversation into a detailed research brief\n",
                "\n",
                "\n",
                "why:\n",
                "user really provide vague input while researching.\n",
                "\n"
            ],
            "metadata": {
                "id": "FBEWMhtlWZds"
            }
        },
        {
            "cell_type": "code",
            "source": [
                "# Initial Prompts\n",
                "\n",
                "\n",
                "clarify_with_user_instructions=\"\"\"\n",
                "  These are the messages that have been exchanged so far from the user asking for the report:\n",
                "  <Messages>\n",
                "  {messages}\n",
                "  </Messages>\n",
                "\n",
                "  Today's date is {date}.\n",
                "\n",
                "  Assess whether you need to ask a clarifying question, or if the user has already provided enough information for you to start research.\n",
                "  IMPORTANT: If you can see in the messages history that you have already asked a clarifying question, you almost always do not need to ask another one. Only ask another question if ABSOLUTELY NECESSARY.\n",
                "\n",
                "  If there are acronyms, abbreviations, or unknown terms, ask the user to clarify.\n",
                "  If you need to ask a question, follow these guidelines:\n",
                "  - Be concise while gathering all necessary information\n",
                "  - Make sure to gather all the information needed to carry out the research task in a concise, well-structured manner.\n",
                "  - Use bullet points or numbered lists if appropriate for clarity. Make sure that this uses markdown formatting and will be rendered correctly if the string output is passed to a markdown renderer.\n",
                "  - Don't ask for unnecessary information, or information that the user has already provided. If you can see that the user has already provided the information, do not ask for it again.\n",
                "\n",
                "  Respond in valid JSON format with these exact keys:\n",
                "  \"need_clarification\": boolean,\n",
                "  \"question\": \"<question to ask the user to clarify the report scope>\",\n",
                "  \"verification\": \"<verification message that we will start research>\"\n",
                "\n",
                "  If you need to ask a clarifying question, return:\n",
                "  \"need_clarification\": true,\n",
                "  \"question\": \"<your clarifying question>\",\n",
                "  \"verification\": \"\"\n",
                "\n",
                "  If you do not need to ask a clarifying question, return:\n",
                "  \"need_clarification\": false,\n",
                "  \"question\": \"\",\n",
                "  \"verification\": \"<acknowledgement message that you will now start research based on the provided information>\"\n",
                "\n",
                "  For the verification message when no clarification is needed:\n",
                "  - Acknowledge that you have sufficient information to proceed\n",
                "  - Briefly summarize the key aspects of what you understand from their request\n",
                "  - Confirm that you will now begin the research process\n",
                "  - Keep the message concise and professional\n",
                "\"\"\"\n",
                "\n",
                "transform_messages_into_research_topic_prompt = \"\"\"You will be given a set of messages that have been exchanged so far between yourself and the user.\n",
                "  Your job is to translate these messages into a more detailed and concrete research question that will be used to guide the research.\n",
                "\n",
                "  The messages that have been exchanged so far between yourself and the user are:\n",
                "  <Messages>\n",
                "  {messages}\n",
                "  </Messages>\n",
                "\n",
                "  Today's date is {date}.\n",
                "\n",
                "  You will return a single research question that will be used to guide the research.\n",
                "\n",
                "  Guidelines:\n",
                "  1. Maximize Specificity and Detail\n",
                "  - Include all known user preferences and explicitly list key attributes or dimensions to consider.\n",
                "  - It is important that all details from the user are included in the instructions.\n",
                "\n",
                "  2. Handle Unstated Dimensions Carefully\n",
                "  - When research quality requires considering additional dimensions that the user hasn't specified, acknowledge them as open considerations rather than assumed preferences.\n",
                "  - Example: Instead of assuming \"budget-friendly options,\" say \"consider all price ranges unless cost constraints are specified.\"\n",
                "  - Only mention dimensions that are genuinely necessary for comprehensive research in that domain.\n",
                "\n",
                "  3. Avoid Unwarranted Assumptions\n",
                "  - Never invent specific user preferences, constraints, or requirements that weren't stated.\n",
                "  - If the user hasn't provided a particular detail, explicitly note this lack of specification.\n",
                "  - Guide the researcher to treat unspecified aspects as flexible rather than making assumptions.\n",
                "\n",
                "  4. Distinguish Between Research Scope and User Preferences\n",
                "  - Research scope: What topics/dimensions should be investigated (can be broader than user's explicit mentions)\n",
                "  - User preferences: Specific constraints, requirements, or preferences (must only include what user stated)\n",
                "  - Example: \"Research coffee quality factors (including bean sourcing, roasting methods, brewing techniques) for San Francisco coffee shops, with primary focus on taste as specified by the user.\"\n",
                "\n",
                "  5. Use the First Person\n",
                "  - Phrase the request from the perspective of the user.\n",
                "\n",
                "  6. Sources\n",
                "  - If specific sources should be prioritized, specify them in the research question.\n",
                "  - For product and travel research, prefer linking directly to official or primary websites (e.g., official brand sites, manufacturer pages, or reputable e-commerce platforms like Amazon for user reviews) rather than aggregator sites or SEO-heavy blogs.\n",
                "  - For academic or scientific queries, prefer linking directly to the original paper or official journal publication rather than survey papers or secondary summaries.\n",
                "  - For people, try linking directly to their LinkedIn profile, or their personal website if they have one.\n",
                "  - If the query is in a specific language, prioritize sources published in that language.\n",
                "\"\"\""
            ],
            "metadata": {
                "id": "jeWbrU6xUjT1"
            },
            "execution_count": 8,
            "outputs": []
        },
        {
            "cell_type": "markdown",
            "source": [],
            "metadata": {
                "id": "xGS4C5jua8Lt"
            }
        },
        {
            "cell_type": "code",
            "source": [
                "\n",
                "\"\"\"State Definitions and Pydantic Schemas for Research Scoping.\n",
                "\n",
                "This defines the state objects and structured schemas used for\n",
                "the research agent scoping workflow, including researcher state management and output schemas.\n",
                "\"\"\"\n",
                "\n",
                "import operator\n",
                "from typing_extensions import Optional, Annotated, List, Sequence\n",
                "\n",
                "from langchain_core.messages import BaseMessage\n",
                "from langgraph.graph import MessagesState\n",
                "from langgraph.graph.message import add_messages\n",
                "from pydantic import BaseModel, Field\n",
                "\n",
                "# ===== STATE DEFINITIONS =====\n",
                "\n",
                "class AgentInputState(MessagesState):\n",
                "    \"\"\"Input state for the full agent - only contains messages from user input.\"\"\"\n",
                "    pass\n",
                "\n",
                "class AgentState(MessagesState):\n",
                "    \"\"\"\n",
                "    Main state for the full multi-agent research system.\n",
                "\n",
                "    Extends MessagesState with additional fields for research coordination.\n",
                "    Note: Some fields are duplicated across different state classes for proper\n",
                "    state management between subgraphs and the main workflow.\n",
                "    \"\"\"\n",
                "\n",
                "    # Research brief generated from user conversation history\n",
                "    research_brief: Optional[str]\n",
                "    # Messages exchanged with the supervisor agent for coordination\n",
                "    supervisor_messages: Annotated[Sequence[BaseMessage], add_messages]\n",
                "    # Raw unprocessed research notes collected during the research phase\n",
                "    raw_notes: Annotated[list[str], operator.add] = []\n",
                "    # Processed and structured notes ready for report generation\n",
                "    notes: Annotated[list[str], operator.add] = []\n",
                "    # Final formatted research report\n",
                "    final_report: str\n",
                "\n",
                "# ===== STRUCTURED OUTPUT SCHEMAS =====\n",
                "\n",
                "class ClarifyWithUser(BaseModel):\n",
                "    \"\"\"Schema for user clarification decision and questions.\"\"\"\n",
                "\n",
                "    need_clarification: bool = Field(\n",
                "        description=\"Whether the user needs to be asked a clarifying question.\",\n",
                "    )\n",
                "    question: str = Field(\n",
                "        description=\"A question to ask the user to clarify the report scope\",\n",
                "    )\n",
                "    verification: str = Field(\n",
                "        description=\"Verify message that we will start research after the user has provided the necessary information.\",\n",
                "    )\n",
                "\n",
                "class ResearchQuestion(BaseModel):\n",
                "    \"\"\"Schema for structured research brief generation.\"\"\"\n",
                "\n",
                "    research_brief: str = Field(\n",
                "        description=\"A research question that will be used to guide the research.\",\n",
                "    )"
            ],
            "metadata": {
                "id": "CQ6LK8_Ia8dU"
            },
            "execution_count": 9,
            "outputs": []
        },
        {
            "cell_type": "markdown",
            "source": [
                "###Scope Research\n",
                "Now, we'll create a simple workflow to clarify the user's intent and write a research brief.\n",
                "\n",
                "We'll let the LLM determine whether it has sufficient clarification to write the brief.\n",
                "\n",
                "This will use LangGraph's Command to direct the control flow and updating state. The Command object takes two key parameters:\n",
                "\n",
                "- goto: Specifies the next node to execute (or END to terminate)\n",
                "- update: Dictionary of state updates to apply before transitioning"
            ],
            "metadata": {
                "id": "J164LMCJbv2A"
            }
        },
        {
            "cell_type": "code",
            "source": [
                "from datetime import datetime\n",
                "from typing_extensions import Literal\n",
                "\n",
                "from langchain.chat_models import init_chat_model\n",
                "from langchain_core.messages import HumanMessage, AIMessage, get_buffer_string\n",
                "from langgraph.graph import StateGraph, START, END\n",
                "from langgraph.types import Command\n",
                "from google.colab import userdata\n",
                "key = userdata.get('OPENAI_API_KEY')\n",
                "\n",
                "\n",
                "# ===== UTILITY FUNCTIONS =====\n",
                "\n",
                "def get_today_str() -> str:\n",
                "    \"\"\"Get current date in a human-readable format.\"\"\"\n",
                "    return datetime.now().strftime(\"%a %b %-d, %Y\")\n",
                "\n",
                "# ===== CONFIGURATION =====\n",
                "\n",
                "# Initialize model\n",
                "model = init_chat_model(model=\"openai:gpt-4.1\", temperature=0.0, openai_api_key=userdata.get('OPENAI_API_KEY'))\n",
                "\n",
                "# ===== WORKFLOW NODES =====\n",
                "\n",
                "def clarify_with_user(state: AgentState) -> Command[Literal[\"write_research_brief\", \"__end__\"]]:\n",
                "    \"\"\"\n",
                "    Determine if the user's request contains sufficient information to proceed with research.\n",
                "\n",
                "    Uses structured output to make deterministic decisions and avoid hallucination.\n",
                "    Routes to either research brief generation or ends with a clarification question.\n",
                "    \"\"\"\n",
                "    # Set up structured output model\n",
                "    structured_output_model = model.with_structured_output(ClarifyWithUser)\n",
                "\n",
                "    # Invoke the model with clarification instructions\n",
                "    response = structured_output_model.invoke([\n",
                "        HumanMessage(content=clarify_with_user_instructions.format(\n",
                "            messages=get_buffer_string(messages=state[\"messages\"]),\n",
                "            date=get_today_str()\n",
                "        ))\n",
                "    ])\n",
                "\n",
                "    # Route based on clarification need\n",
                "    if response.need_clarification:\n",
                "        return Command(\n",
                "            goto=END,\n",
                "            update={\"messages\": [AIMessage(content=response.question)]}\n",
                "        )\n",
                "    else:\n",
                "        return Command(\n",
                "            goto=\"write_research_brief\",\n",
                "            update={\"messages\": [AIMessage(content=response.verification)]}\n",
                "        )\n",
                "\n",
                "def write_research_brief(state: AgentState):\n",
                "    \"\"\"\n",
                "    Transform the conversation history into a comprehensive research brief.\n",
                "\n",
                "    Uses structured output to ensure the brief follows the required format\n",
                "    and contains all necessary details for effective research.\n",
                "    \"\"\"\n",
                "    # Set up structured output model\n",
                "    structured_output_model = model.with_structured_output(ResearchQuestion)\n",
                "\n",
                "    # Generate research brief from conversation history\n",
                "    response = structured_output_model.invoke([\n",
                "        HumanMessage(content=transform_messages_into_research_topic_prompt.format(\n",
                "            messages=get_buffer_string(state.get(\"messages\", [])),\n",
                "            date=get_today_str()\n",
                "        ))\n",
                "    ])\n",
                "\n",
                "    # Update state with generated research brief and pass it to the supervisor\n",
                "    return {\n",
                "        \"research_brief\": response.research_brief,\n",
                "        \"supervisor_messages\": [HumanMessage(content=f\"{response.research_brief}.\")]\n",
                "    }\n",
                "\n",
                "# ===== GRAPH CONSTRUCTION =====\n",
                "\n",
                "# Build the scoping workflow\n",
                "deep_researcher_builder = StateGraph(AgentState, input_schema=AgentInputState)\n",
                "\n",
                "# Add workflow nodes\n",
                "deep_researcher_builder.add_node(\"clarify_with_user\", clarify_with_user)\n",
                "deep_researcher_builder.add_node(\"write_research_brief\", write_research_brief)\n",
                "\n",
                "# Add workflow edges\n",
                "deep_researcher_builder.add_edge(START, \"clarify_with_user\")\n",
                "deep_researcher_builder.add_edge(\"write_research_brief\", END)\n",
                "\n",
                "# Compile the workflow\n",
                "scope_research = deep_researcher_builder.compile()"
            ],
            "metadata": {
                "id": "ResKydC1bwJR"
            },
            "execution_count": 12,
            "outputs": []
        },
        {
            "cell_type": "code",
            "source": [
                "# Compile with in-memory checkpointer to test in notebook\n",
                "from IPython.display import Image, display\n",
                "from langgraph.checkpoint.memory import InMemorySaver\n",
                "\n",
                "checkpointer = InMemorySaver()\n",
                "scope = deep_researcher_builder.compile(checkpointer=checkpointer)\n",
                "display(Image(scope.get_graph(xray=True).draw_mermaid_png()))"
            ],
            "metadata": {
                "colab": {
                    "base_uri": "https://localhost:8080/",
                    "height": 350
                },
                "id": "790CbzqtcMi-",
                "outputId": "39d0265b-dc74-4b6d-ef43-9d8e9d3ae245"
            },
            "execution_count": 13,
            "outputs": [
                {
                    "output_type": "display_data",
                    "data": {
                        "image/png": "iVBORw0KGgoAAAANSUhEUgAAAO8AAAFNCAIAAABnsa+/AAAAAXNSR0IArs4c6QAAIABJREFUeJzt3WdcU+fbB/A7G8hg742goGyiIg5AVKgTqbN14FYctYq12jqrtVa0WltXsVoVZ4sKOOuoFRGVvSqKDJW9ErL38yJ9Uv8aQMw4ycn9/fgi4+TcV8jPkysn59zByGQyAEGogEW6AAhSG5hmCD1gmiH0gGmG0AOmGUIPmGYIPfBIF9CphmoBp0PM7RCLxTIhT4p0Od0jmWBxeAyZhifT8LauJKTLMUQY3drfLANljzuqSjlVJRy3vmQsDpBpeHMbooAnQbqy7pGMce1NQg5TDACoLuO4+5Ld+1G8+1ORrsuA6FCa8/9i5P7Z5uFPcetH9uhHBhikC1KBVAKqStlVJZwXReywcVZ+g02Rrsgg6ESa6yr5V4/Ve/enDh5nhdHnEL9LJJBlZbS8esaNnmVn7QjbD81CPs1FmczKInb0LDtjCg7ZSjSHzRBnHK0PHGYGGw+NQjjNT5+wGl/ywz+2RrAGrbl1ptHDj+LhS0a6ENRCMs1ZGa0CnjRyskFEWe7mqUZLe2JIlDnShaATYvuby3NZbIbYoKIMABg1w7auklddxkW6EHRCJs2t9cKaMs6oGbaIjI6scQscSh8xWe1ipAtBIWTSfP9Sc99Qw91p5R1CzbzcjHQVKIRAml+VczEY4ORlrP2hdUQvfwqrXdz0UoB0IWiDQJqf5rAGjzesdvldQydYlWYzka4CbbSdZjZD/LqCZ+VA1Oag586d27Rp0wc8cMSIEbW1tRqoCNh7GD/LY4kEyH91hSbaTnNVKce9n7Z3uJaWln7Ao16/fs1gMDRQzr/c+pGrStmaW78B0vb+5ttnm7xDqI6aaZorKysPHz6ck5ODw+H8/f1nzpwZEBAwb968wsJC+QKnTp1ycnI6depUVlZWZWWllZVVRETE4sWLjYyMAACJiYlEItHOzu7EiRPz589PTk6WPyo8PHz37t3qr7aE8/oZd1icoTddaqTtbXNdJY9irpHDUIVC4eLFiyUSyeHDh/fv34/FYletWiUQCI4ePerr6ztmzJicnBxvb+/Tp08fP3589uzZaWlpiYmJ169fP3r0qHwNBAKhrKysoqJiz549U6dO3bt3LwDg8uXLmogyAIBiim+o4WtizQZL28c3czrEJjSNDFpTU9PW1hYfH+/p6QkA2LFjR35+vlgsJpH+51ifWbNmjRw50t3dHQAwZMiQkSNHPnz4cOnSpQAAHA7X3Nx87ty5tx6iIWQajtMB9zqrk1bTLORLMRgMgaiRw+RcXFzMzc03b9788ccfBwQE9O3bl06nv7sYgUDIysravHlzeXm5WCwGAFhb//de7+7urp0oAwDINDyHqQfHbesR7XYaMkAkaWpEEon0yy+/DBky5OjRo7NmzZo4ceL169ffXeyHH344evRobGzspUuXcnJyZs2a9dZKNFSeEhiAJ2IA3KuhPlpNM9EYy+dKJCJNvYBubm4rV67MyMhISkry8PD4+uuvnz179uYCUqn00qVLU6ZMmThxop2dHQCAxWJpqJhucVkSIgmr1ycl6Bptfwok03AclkbeXquqqtLT0wEARkZGERERO3fuxGKxZWVlby4jFAr5fL6itRAKhffv39dEMe9Dcx8hDJa20+zoacLp0Eia29vbt2zZsnfv3tevX1dWVh47dkwqlfr7+wMAnJ2dy8rKcnJyuFyus7Nzenq6fF/y1q1b6XQ6k8nk85XsW3BzcwMA3Lp1q6SkRBMF81gSe3cjTazZYGk7zZZ2xBeFGnlzDw4OXr9+/bVr12JjY6dMmVJYWHj48GEPDw8AQFxcnEwmS0hIeP78+Y4dOwgEwqRJk2JjY0NDQxMSEohEYmRkZGNj41srdHJyGjdu3MGDB/fv36+Jgp8XsOG5Veql7W9PmC2itCN1M9e7anNQ3ZS8oXLGl65GZNSeP6Z92t42m1oRrByIzBaRlsfVNc2vha7eZBhl9ULgU4hXEDUro/WjeLvOFpg7d25lZeW7t8t3D+PxymvOyMigUChqrfRfRUVFK1asUHqXWCzurB4AwN27dzGdnIP+IL05JMpCfTVCALHzAs//8Cpiko2Ns/KusampSR7cdwkEgs52CTs4OKi1xv9RV1f3AY/qrKRXz3i5t9tilziqXBf0P5BJc90LfnluR+QUG+0PrQtupjQGR5hZwY+A6obMmVQOvYzMbYiZl1sQGR1Zt882OXkawyhrAmLnbAdGmPG5kid/tiNVACIepLUQjbB9B9KQLgSdEJ4d5snNNgwGQx9pEPNLZGW0Uszw/kMM9/ReTUN4/ub+oyyEAumfKW9/c4E+GUfriSQsjLJGIT8PHQDgeR77zzMNYWOtAsPNkK5F/XJvtefcahs10077p5AZGp1IMwBAKpE9SG+tLuP0Caa69SN3tvNOjzTW8CtLOcWZTL/BpoNGW8Jj5bRAV9Isx+2QlDxkVpVyuB1iVx8ynogh0/CmlgSRSA/m1sfhsaxWEbtDLJXIKos5NAu8uy/Ff4gp0Qj+HIeW6FaaFThMSUM1n80UcVkSIAPqPYhUKpXeu3cvMjJSjesEAJjQsBiAIZviKaZ4e3cjFE/gq7N0NM0aJRQKIyIisrKykC4EUjP4JgihB0wzhB4wzRB6wDRD6AHTDKEHTDOEHjDNEHrANEPoAdMMoQdMM4QeMM0QesA0Q+gB0wyhB0wzhB4wzRB6wDRD6AHTDKEHTDOEHjDNEHrANEPoAdMMoQdMM4QeMM0QehhimjEYjLm5QcxKamgMMc0ymay93bDmjTYQhphmCK1gmiH0gGmG0AOmGUIPmGYIPWCaIfSAaYbQA6YZQg+YZgg9YJoh9IBphtADphlCD5hmCD1gmiH0gGmG0MOAfv0yISEhOzsbg8HIf84Vg8FgMBiZTJaXl4d0aZB6GNC2ecGCBQ4ODvIQ43A4LBaLwWAcHByQrgtSGwNKc1BQUN++fd+8RSKRBAQEIFcRpGYGlGYAwCeffGJpaam46uDgEB8fj2hFkDoZVpoDAwN9fX0VV4ODg728vBCtCFInw0ozAGDmzJnyzbOdnd306dORLgdSJ4NLs2LzHBwc/FYbDek7fLdLtDcKW+qEHJZYK/VoQ2TIHE699WC/iQV/M5CuRT2wGIwJFWdhT7KwJSBdC5K62d+ckVzPYohplkQjE5wWq4J6BovDsBkiHltCs8DHzLJFuhzEdJpmmQyk/lTrPcDMxZus9aqgD/SiiFVTxpqwyEB3onea5rQjdV5BZk69TbReEqSSyiJWfRUnZpYd0oUgQPmnwMYagVQKYJT1kYc/lcOUtNYJkS4EAcrT3FzLN6F2/wER0k3GFFxrgwDpKhCgPM3cDgnFzKA/Hes1shmR24GefVDvT3maZTIglRjKsXXoI5XIpAb56hnctycQisE0Q+gB0wyhB0wzhB4wzRB6wDRD6AHTDKEHTDOEHjDNEHrANEPoAdMMoYfG0xwbN+LEyeQePeTZ86eRUfTS0iIAAIfD+fa7jWPGDfti7TINVfj1xtVKVz556kfJR3/W0KCQJujiYZ+WFlazZs63srIBABQV5f3559VlCasDAkI0NFxE+EiJ+N8jzjZvWTtgQNjojyZoaCxIo3QyzZZWc+IXyy9zuBwAwMhRY2hUmoaGGxEVo7j8tLx0wIAwDQ0EaZraOg2JRHL6zPGY0YM/GjNkdeKSkpLCd5dJvXjui7XLxo2P+Hhy9LbtX9U31Mlv//2P05OmxGQ++Ctq5ID9PycpOo3DR37c/u3XAIAJscNXrV48KmbQmbO/vTni+Njhh4/82FlJV65eiv4oTPz/2909P3wbGUV/+bJaUcy48REymUzeaYjF4sgoemNjw66kb8ZNiJAvg8cTUlPPjowOHTs+/Mv1nzE7mN3+HUbFDDp77oTi6o6dmxKW/TudUnZ25spVCz8aM2RW/Mfffb+5tbVFfntLS/PWb9ZNnT5mfOzw7Ts2vHpVI7/9eUV5ZBQ9Oztz0pSYzVvWdjs0pLY0Hz7yY3r6H99s3f31+u1W1jZfrl/x+vXLNxcoKMjd/9MuP7+gQ4dOfbt9b1Nz47c7NsjvIhCIPB737LkT677cOnHCFMVDFi1c8dX6bQCAy5fu7Nl9KDJy1O071xX35hfksFgdMdHjOiuJHhIqFAqfP38qv1pUnG9ublFcUiC/WlycHxIyUD5lKAAAj8dfv/oAALAmcUP65b/kN9796yaHy/l+509rEjeWlBQcO3bwg/8+z54/XffVSj/fwN+O/ZGw+POKivKkPdsAAGKxeFXi4uKSgsTVG47/eoFGM126LL6uvhYAQCQQAQDJv/48dcrMWTMXfPDQhkM9nQaD0X7h95SVn33Znx4KABg4cDCXw2lpaXZyclEs4+cX+GvyORcXNxwOBwCYMnnGho2JbDabQqHgcDgulztvbkJQIF3+wisdZezoiStWzq+qeuHu3gsAcO/eLe8+fV1d3TurytbWzsHBqbAoz8fHt7297eXL6hmfzi0pKRwzOhYAUFCYq+hnOkOhUGfOmCe//CDrXlFx/of+hUBJcYGRkdHcOUswGIyNja2Pj29lVQUAoLAo79Wrmt1JB4OD+gMAliWszs7OTE09u2zpavkfanBY+ORJn37wuAZFPWmWvzA+Pv9O8YbH47/ZmvTWMjgcrrb21c8Hdpf9U8zj8eQ3MhhtFApFfrlP725mHvLzC3R0dP7z1tWFC5bLZLJ7f9+On72o64cEB/UvKS2Ub5i9PPsEBtL37vsOAFBTU8VgtIeEDOxmRN9AxWUqlSYUfPjJdr5+gXw+/8v1n0VGjPTzC3J0cJL/1y0uLiAQCPIoAwAwGExgQEjxG/9tenv5fPCghkY9nQabzQIAmBh3dY733/fvbNiU2K+f/497j9659WTH9r1vLUAkErsdaML4SbduX5O3GTwed8SIj7pePjCQnpf3GABQWJjr5xfUr69/Xd1rJpORX5BjY2Pr6ODU9cPxeLV9Su7t5b3j232WFla792yfMTP2i7XLysqK5X86kUgUGUVX/Lt67XJrW4vigUQSSV01oJ56Xi0ymQIAYLFZXSxz5cpFf/8gxZs7m8P+gIFGjRxz5Jf9eflPMjPvhg0a1u2ODjo9lMfjVVZWFBXnz5q5gEQi9e7tU1CYW1SU158+6AMK6CmpRKK4HDpwcOjAwXPnLMnNfXThj5R1X61M/f2mpaWVsbHx9m0/vPkoPE4X9zXpPvVsm728vHE4XGFhrvyqTCb7cv1nN25kvLlMRwfTytJacTUz8+4HDGRqahY+LOru3Zu3bl8fOWJ098vTTL08+zx+kvXixfMA/2AAgG+/gKLi/KLifDo99AMK6BaJROLxuIqril0o+QU5T3KyAQBWVtbR0WMTlqzq6GA2NNZ7eHjxeDw7O4egQLr8n42NnadnH03UhnrqSTONShs1cszlyxeuXU/LL8jZ/9Ou3NxH/Xz/Z9r6Xr165+Y9LizME4vF5y+ckr+JNzY19HSsMWMm/nnrKhaLDQ0d8j7LBwX1z8hIdXPzMDU1AwD4+gZkP7zf1tb6btNMIpGsrW3y8h7nF+Qo9uv1VL9+Afcz73I4HADAyVNHFT1DUVH+xk2JGVcuMpmMsn9KLl48Z21tY2tjN3BA2IABYbt2bW1sbGAyGakXzy1JmHXtetqHjW7g1LaH7rMVawMD6bv3bF+1enFxccE3W5KcHJ3fXGDB/GUhwQPWf71yVMyg1taWL9Zs8u7TN3FNwl/3bvVooKBAOh6PHzli9Hs2tUGB9Nq61/5+QfKrAf7BdfW1fXr7UCnUdxf+9JO5ObmPNmxczePzelSVwvJla8xMzceODx8ZHSoQ8EdEfST/onH6tNljRk/c/9Ou2LgRqxMXU6m0H/YckT+FHdv3DhsWtXXbuti4EZcun4+JHhc3ceqHjW7glM9D9+ham0gEAsItkCipG6WlRcs/m3fi+B9v7v6D3pTzZ6upJTY40hzpQrRNnz5t8Hi8p+Wle/d9N+PTuTDK0Lv0Kc1fb1iVl/8ketTY2bMWKm48d/7kqVNHlS7v7uH5496eHb7XrdLSoi/Xrejs3jOnMxS7zyHt079O4y0sNovdyZ5BAp5gZWWt9C5VKA4veZe9nU5MnAw7DX1FpVCVfp7THB2JLPQueO4JhB4wzRB6wDRD6AHTDKEHTDOEHjDNEHrANEPoAdMMoQdMM4QeytNsRIa/qq3PZDJjg3wFlafZ0p7YWPOBB/hCiGt8ybO0M8SzCZWn2cnTWCSQGuYvKOo7ZosIT8DYuMA0K2BATLzd/YuNQr5U2xVBKuCyJA/Tm0bPsUe6EGQoPyJUjtkiOrfnlWcgzdSKCDtpXYbBAE6HmM0QVRWzpq52IdMM9MXqKs1yJVnMllohW+tdx7PyZ56enlicnu11EYvE1TXVnp6e2hwUh8MaU7DWTqR+oZqae1IvdJ9m7ZPJZBcvXvT29u7bt5vZj3RTbm5ua2trVFSUfOotSGt0Ls1XrlwZNWoUHo9XzHeojyQSCYvFys/Pj4yMRLoWA6Jb7+NZWVmPHz8mEAh6HWX5pHtmZmZXr14tLFQy8y+kIbq1bS4qKvL390e6CnUqLi728/NDugpDoRPbZgaDMX78eAAAyqIMAJBHefz48YppUSHN0Yk0nzhx4vTp00hXoUHJycnHjx9Hugr0Q7jTuHDhwuTJkxEsQMtSU1Pj4uKQrgK1kNw2HzlyRN8/7fVUe3s7ut+FkIXMtpnL5ZqYmBjmJ6TCwsKAgACJRAL3RqsdAtvmkpKSrVu3Kj4hGZqAgAAAwKJFi6qqqpCuBW0QSPOlS5e+++477Y+rU5KTk8+cOYN0FWij1U7j4sWLEydO1NpwegF+LlQj7W2b58yZ4+HhobXh9IWjo2NiYiLSVaCENrbNjY2Ntra2NTU1rq6umh5LHz179qx3796tra2WlpZI16LfNJ7m1NRUAAB8M+3Wr7/+6uDgEBMT8x7LQsppttOQSCTl5eUwyu9j7ty52dnZSFeh3zS4bb5z5054eDjcq9pTN27ciI6ORroKvaSRbbNYLA4NDQ0KCoJR/gABAQFRUVFSKTwjs8fUv21ubGyUyWRWVlZq/FlfQ8NkMjEYDI/Hs7W1RboWfaLmbfO+ffva2trs7OxglFVhampKo9Fqa2uPHDmCdC36RJ1pfvbsmYWFhY+PjxrXaciCg4MBAHV1nf5oEPQW9XQaDQ0NTCbTwcGBStXqD+oYAjab/eLFC3d3dxrNoM/Hfh9q2DY3NjbOnz/f09MTRlkTKBSKt7d3bGwsk8lEuhZdp4Ztc25ubkhIiJrqgTplmAfQ9ohK2+bm5uYTJ07AKGuHn59fcnIy3EJ3QaU0t7e3X79+XX3FQN1IS0vjcDhIV6G7VEqzjY1NfHy8+oqBurFw4UJTU1Okq9BdujWfBgSpQqVtc1NTEzyxXpuOHDkC++YuqJRmBoNx8+ZN9RUDdSMjIwP2zV2AfbM+gX1z12DfDKEH7Jv1Ceybuwb7Zn0C++auwb5Zn8C+uWuwb4bQA/bN+gT2zV2DfbM+gX1z12DfrE9g39w12DdD6KFq33z06FH1FQN14+DBgwwGA+kqdJdKZ1YzGIzbt2/PmzdPffVASkRHRxOJRCwWW19fn5aWRiQSpVIpjUZLSUlBujTdolKabWxs5s6dq75iIOWoVGp1dbX8cnNzMwCASCQuWbIE6bp0jkqdhpmZ2YgRI9RXDKTc0KFD3/qBGBcXl9GjRyNXkY6CfbMeiI2NfXOyYBKJNGPGDEQr0lGq7m++ffu2+oqBlHN1dQ0LC1NcdXNzGzt2LKIV6ShV9zfDvlk7Jk+e7OTkBAAgk8mffvop0uXoKNg36wdnZ+dBgwbJN8ywY+6MSvs0mpqa0tPTtbyHTsCVtjUKO9pFUolhfe8zJHDq83zuqPBR/zzpQLoWbTOh4q3sSWTTbiZQVum7wGfPnm3evFmbP05a+DfjRTFHIpLZOBvxuHCGY0PBZ4vZDLGdm9GI6TZdLKZSmhkMRk5OjtaajYJ7zMaXgrDxXT0fCMWe5XXUVXDGLbDvbAG9OU6j9GHHy3LekIlwdm6DVlHAaqzhxsxSHgOVPgU2Njb+8ssvqqzhPUmloORhx8DR1loYC9JlnoFUAU/a/Fqg9F6V0sxkMu/evavKGt4ThynmssQEEgK/owzpGpIxtqVOA2m2tbVdsGCBKmt4T2yG2NKOpIWBIN1HsySymRKld6mUZlNT08jISFXW8P4EfOVPADI0ErFMJlX+YU8/+mYIeh/60TdD0PvQj74Zgt6H3vTNENQt2DdD6AH7Zgg9YN8MoQfsmyH0UCnNDQ0Nhw8fVl8xEKQSldLc0dFx79499RUDQSpRKc12dnaLFi1SXzEQpBKV0kyj0cLDw9VXDMLGTYhIOX0M6Sq0ZPu3Xy//rMenwE2YGHXiZPL7LPn1xtVfrF3W7WInTiZPmhIzKmZQTytRCvbN/5k2dbafb6D88uYta69eu4xwQfosInxk1PCYrpfh8XjHjh+ih4R+/91PahkU9s3/+fSTOf7+QfLLT8tLkS5Hv42IiomO7mbSDy6XAwAICxsWGBiilkHR2TennD625ouliquz50yaNOW/7cTmLWu/2rDqeUV5ZBQ9Oztz0pSY+QunKzoNsVgcGUVvbGzYlfTNuAkRAACxWHzw0N7ZcyaNHjt07boV2dmZ71PDuPERqalnP/t8QWQUvYPVAQC4eu3ykqWzPxozZOnyOb//cVpxDlt1deXmLWsnTIyKmzRqw8bEkpJC+e1djFtV9WLfjztnxX8cM3rwosUzMq5clN/+7pMCADx4cG/aJ2OjRg5YtHjG9RvpipUQ8IT8gpxJU2JGRocuWTq77J+S93leWCw29eK5BQs/GTs+fOOmNQxGu9Jx3+w0Wlqat36zbur0MeNjh2/fseHVqxoAgHxhAMCmzV/oRKehs32zp2ef4pICiUQCAGhra62rey3g82vrXsvvLSzKCwkeSCQQAQDJv/48dcrM1au+VjwWj8dfv/oAALAmcUP65b8AAD/s3ZF68ezHcdPPnM4YNnT4pi1f/H3/Trc1EIjE1ItnPT377Pr+ZxNjkz//vLor6RvvPn1Pn0qbE7/4wu8pPx/YAwAQCoWrEhdLJJIfdh/e+d1+LBb71YZVAoGg63H3/7QrJ/fRqpXrz57OGD06dvee7U9ysgEA7z6pBw/ubdryxfx5y77b8ePgwRE7v99y5+6/P4fQ1NSQnv7HV+u3fbfjR6FQsCtp6/v8ba9cuchktickrPpq3baCgpyffk5SOq6CWCxelbi4uKQgcfWG479eoNFMly6Lr6uvDQ0d8vv56wCALZu/v3n9YU9e3k6pNJ9GQ0PD5cuXdXDz3Ke3j0AgePb8qY93v8KiPG/vfkQCsaS4wNHBqbq6ksFop4cMxGKxAIDBYeGTJ3U1dRCfz7/555VPpsePH/cxAGDM6NiSksJTp44OGzq86xpwOJyVtc3ypYnyq+lXUv39gz5bsRYAQA8ZODd+ya7d38ycMa+lpbm9vW369HgPD08AwMYNO4qK88VisUwm62LcTZt28rhcOzt7AMCE8ZOuXLn4+HFWf3ooDod760n9evzgsKHDR0TFAAD600PZbBaHw5bf1dTcePDgSSqFCgCImzgtafc2JpNhamrW9fMyNjGJn71IPsvj2LFxv/9xWiQSvTuuQmFR3qtXNbuTDgYH9QcALEtYnZ2dmZp6dtnS1d29jD2m0raZxWJVVlaqrxi1MTMzd3Z2LSkpAAAUlxT4ePv6+gaUlBbK/7g2NrYuLm7yJXt7+XS9qqdPS8VicX/6f2+FQYH05xXl7/P7I4qVi8XisrLi/1lJUH+JRFJcXODk5GJmZr7z+81//HHmaXkZDocLCqSTyeSux5VJpRf+SJk5Oy4yih4ZRX9eUc5gtL07rkQiqap64ePjq7grYcnn48bGyS/36tVbHmUAAJVKk//X7fZJ0UNCFROW9u3rJxKJWltb3hr3TcXFBQQCQR5lAAAGgwkMCCkuzu92oA+g0rbZ1tZWZ2eRCgqkFxXlT570aWFh7pz4xSSSkfw9saAgJyiwv2IxIqmb0w3ZHBYA4N2dWW1tLWQyuevHEolE+QU+ny+RSI7+euDorwfeXKCd0UYikfb98MuVq5dOphxlMhmOjs7xsxeNiIrpYlwjI6O1Xy6XyWQLFywPDKRTKdSEZf/z6zOKJ8XhcmQymbGxidLy8PgPefVNTP571vI1d7CYJsYmnf0x2WyWSCSKjKK/eaOlpdUHDN0tldKss30zACA4eMDuPduZTEZlZUVw0AAcDvfqVQ2TycjNe7xi+Rfvvx4LCysAwOpVXzk6Or95u5VVDyapoVAoRkZGMdHjhg2LevN2RwdnAICLi9uSxSvnxC/Oycm+fjN9+7dfu7l6dDFueXnZs+dPFe/d8sQoHdfE2ASDwXR274fh83mKy/KmxZRmJhIJO1ve0tLK2Nh4+7Yf3rwRj1MpeJ1RtW9OTU1NSEhQXz1qExTUn81m3biZ0auXl4mJCQDAy7PP1WuXWawOesjA91+Ps7MrkUiUNwDyW9raWjEYjLGxcY/q8fDw4vF5ipUIhcLGxnobG9uamqp/npbERI8zMjIaMiQiNHRI9Edh5c/Khg2L6mxcJpMBALCy/Hd2kcrKilevavr0VvIuj8fjvTz7FBblTZs6S37LL8k/iUSihCWf96j4N1VUlCsul5eXkUgkS0urhoa6rp44j2dn52Bv5yC/pbbutYW55QcX0AVV9zdnZr7X7irto1Fpvb2809J+9+0XIL/F1y8wIyO1t5e3mZl5148lkUjW1jZ5eY/zC3KMjYzjZy86/tvh4uICoVD4171ba9Yu3ffjzp7Ws2jBir//vn312mWpVFpUlL9127rVa5YIBAIGo33n91sOHtpbW/e6uroy5fQxqVTar68/lULtbFw3914YDObC7ylsNrumpurAwT396aENjfVKx40G7B1wAAANt0lEQVSbOO3Jk4fnzp/ML8i5nPb7mbO/9fLw6mnxCjKptKr6xYXfUyQSSfmzf27czAgPH9F1xzJwQNiAAWG7dm1tbGxgMhmpF88tSZh17XraB9fQBZW2zfb29rq5YZYLDKSfO39yjt+/X4j06+ufmnp2yuT3mpX+00/mHjt+KPtR5pnTGdOnzfb07HP67PG8vMdkMsW3X8CaxI09LcbfP+jwwVMpp48dPvIjn8/r19d/2zd7SCRSQEDwqs/XH//t8PkLp+S7HX7YfdjNzQMA0Nm49nYOX63fdvJU8rgJEU5OLuvXfdPa2rxhY+Lc+VO3bt711rjR0WM7WMzfThzhcDiWllaLFq7o9kuNLghFwhkz5pWUFB44+AOZTB7QPyxhyapuH7Vj+9609D+2bltXVlbs7OwaEz0ubuLUD66hC/oxD119FT8zrSUm3gnpQiDkFfzVRjICA6It3r1L1eM0Dhw48B4LQpA2qNRpyPtmXW42NKe0tOjLdSs6u/fM6QwKhaLditRA358UmvtmjerXz//IkU6nYdfxV70z+v6kVEozlUodMmSI+orRM4pdTmii108K9s0QeqB2fzNkgFRKsyH3zZAOUinNBt43Q7pG1b75p5/Uc0YXBKlO1b45KytLfcVAkEpU7ZuXL1+uvmIgSCWq9s3yH3+GIF0A+2YIPfSjb8YTMSTjbn4xHDIQWCzGiKw8DPrRN1s7kl4+7f6sUsgQNFRzLeyISu/Sm76570DTV0+52hkL0lkCrkQiljr2Un4am970zcOnWhfeb22pVf6TtJAhkMnAXxcaRky3/f8ZEN6m6vHNWVlZy5Z1PxWkWkxZ6XR+7ytXb4oRGW9qTZJKpNoZF0Icjy3paBUW3Gv7dK2ruQ2hs8VUOpOKxWKVlJRoeSdd6cOOxpd8kUjGYYi1Oa4uqK+vt7G2xn3QPBh6zYSGs3EmBUd2c3qyfpwXCMmNHz/+0KFDDg56fAiyRqnUN9fX1+/bt099xUCQSlSdh+7Ro0fqKwaCVKJSmh0cHD777DP1FQNBKlEpzRQKZeDAHsyCBUEaBftmCD1g3wyhB+ybIfSAfTOEHrBvhtAD9s0QesC+GUIP2DdD6AH7Zgg9YN8MoYeqffOqVd3/7AUEaYeqfTOdTn+PBSFIG1RKc11d3Z49e9RXDASpRKU0s9nsnJwc9RUDQSqBfTOEHrBvhtAD9s0QesC+GUIP2DfrE4lEgnQJOk0NffOVK1fUVw/UqUOHDg0ePNjKygrpQnSXSmmW43A4a9euVUcxkHK1tbXTpk3D4/Hr168nEpVPjwmpba6j8vLyPn36/PPPPz4+PuqoCvpPSkrKhQsXkpKSPD09ka5F16lh2wwA6NOnDwCgpaUFHu6sRkwmc8GCBU1NTZcuXYJRfh9qnocuKyvLxcWFRqPRaDQ1rtYApaWl7du3LykpKSgoCOla9IZ6ts0KYWFhTk5OLBZr/fr16l2z4ZBKpatWrSosLLx9+zaMco+oOc1yjo6OERER58+f18TK0e3OnTuhoaGxsbEbNmxAuhb9o8EZb6VSKRaL/fHHH1esWKGhIVBm06ZNPB7v+++/R7oQfaWRbfO/q8ZiAQDu7u5ffvml5kZBhydPnoSHhw8cOBBGWRXamI2cxWJRqdQ7d+4MHz5c02Ppo127dlVWViYlJZHJZKRr0W8a3DYrUKlUAACRSJw8ebIWhtMjT58+HTt2rIuLy8GDB2GUVafVX4qoqqpycXF5/fq1q6ur1gbVWYcOHcrMzNy9e7etrS3StaCENrbNCu7u7jgcTiwWz507VygUanNonaL4pvrUqVMwymqEzK/4FBUVsdnsgQMH4nAG93vD8JtqzdHqtlnB398/LCxMIpGsWLHCcI5yhN9UaxoyaZYjEonTpk0zkH1Sly9fjouLS0hI+Pzzz5GuBbV05fcCk5OT58+fj3QVGiGRSBITEy0sLODXe5qG5Lb5TQEBAXFxcUhXoaqlS5e+dcudO3fCwsLi4uJglLVAV9Lcv3//M2fOAAAeP3785u2DBg26dOkScnX1wIULF4qLi9+8ZePGjTdu3Hj06NHQoUORq8uA6EqaAQAkEgkAYG5uHh0dzefz5REXCAQpKSlIl9Y9Ho93/vx5Lpc7ePBg+f/JYcOGhYaG7ty5E+nSDIiu9M1vam1t5XA4CxcubGlpAQDg8fiFCxfOnTsX6bq6cuDAgZSUFIFAAAAwMTHx9fVNSkoyMTFBui7DokPbZgVLS8vExER5lAEAYrE4PT2dwWAgXVenXr58eevWLXmU5RMzHDhwAEZZ+3QxzQCAysrKN6++fPkyOTkZuXK68dtvv718+VJxFYvFhoaGIlqRgdLFNIeHh0ulUplMJpVK5bdgMJjMzMyKigqkS1OioKAgOztbcVUqlUqlUpFIFB4ejmhdhkgX+2b53oCmpqb6+nqRUITHkCUiAkZK6uvju3jxYqRLe9v+/fufVzyVAB6OKAY4IRaLsba2dnFx2bRpE9KlGRwdTXNHm7i6lPO8gM3lSDhMEZ6IIVIweCwJ6bqUE0kEQo5MIpRRzIlkCs4rkOzej0w2xSNdl8HRuTQzW0T3L7W0N4sJJiSKpQnF0hjpinqG1cLjtHEkfJGFHWFYrCXMtDbpVprvXmh5Ucy29rAwtdX7Q9cZ9eymF20+A0yHTrBAuhZDoStpFgllJ7+tsXAxN7OnIF2LOjHq2KxG5sz1LkgXYhB0Is08tuT41upeoU5EYxS+L/PZwoqHtQu2e5CMdXEPEpogn+aOVtHFQw2uwQ7IlqFpNbm1U1Y6GlMM7uwEbUJ+a3FqR41LoD3SVWick7/9yW9rkK4C5RDeNl86VG9saUaiGMQsrjymQMzpGDfPDulCUAvJbXNxJlMgwBpIlAEAxqYkFgOU57CQLgS1kEzzg/QWaw/D2ntl7WGRmdaKdBWohVia8+4ybHqZY/HIN+7aRDDCmTlQSrI6kC4EnRALU0kWk2yuu8dMXri8Y/fPMzSxZmNTk5KHMM0agUyamS0ikVBGohAQGR1ZJmYkZouQzzGUeRe0CZk0V5VyqNao+s6vR8zsKdVlXKSrQCFkvntrfCkgGhtpbv2PctMe5VxqaHxhb+cV4Bs1dNA0DAYDANiwfcTwYbP5As7te8eMSOQ+XoMmjF5Fo1oCAAQCbsrvGysqc+xtPQcPnKS52gAAeBKhvprv3Z+q0VEMEDLbZjZTgidp6lux3IJrFy5td3LwWbfqYvTwhX9nnUm7tld+F4FAuvP3bwQC6Zv1t9asOFdVU3Drr6Pyu85f2t7S+mpR/E+zp++srX9W/jy7y0FUgifhOB2w01A/ZNLMZYnxRE2lOTvnkodrUNy4NVSKRW/PATFRix48usDhyE8rxDg7+owIn2NsTDWlWXv1GlDzqhQAwOxoLiy5FTlkpquzL41qOTZ6OQGvwb3gBBKewxRrbv0GC5k0k4xxOIJG0iyRiGteFff2Gqi4xdODLpVKqmoK5VedHP/7RUNjIypfwAYAtLXXAgBsbdzlt2MwGCcHb02UJ4fDYwkae2syZMj0zVKJTMQXE4zU/4oKRXypVHL91qHrtw69eTuL0/b/FzHvPorDZQIAjEj/fTAlEjV4loBIIAYA+UMX0QeZNJtQcWKhRhpHYyMKkWBEDxrr3+9/fpXCytKpi0eRTUwBACKxQHELX8DRRHlyIoGEbAq3zeqHTJqtHEhNTVINrdzezkso4nl6hMivisTC9vZ6M9OuJv02N3MAANS8Kna07w0AEItFFZU5NJq1hiqUSWVW9jp6jqNeQ6ZvdnAnsZo1tfEbM2ppUemdR7lpUqm0sjr/1LmvDh9fJhIJuniImamNm0vA9VuHWlpfiUSCUxe+xmA1+JfpaGI5uGtwB6XBQibNbv3IzEZNfX3g4Ra0cvFvVdUFm3fGHPltBV/AmfPpLgKhm23h9I83OTn67Pl5xlfbIsnGpv2DxsqkGnn3kIikArbI3gOmWf0QO775xskmITChWunZKdmqYzZwaBRh5GQrpAtBIcSOOgocRmt72Y7U6AhqrWkPDDdFugp0QuysUltXI3NrfEcTl2aj/Ei61PRdeUXXlT9YJgMYJTvaAACffLylr/cQdRX5V+apW/eOKb3L2IjG4ys/FG7BrL2uzn5K72I2sB09jMxtDPFwKy1A8kyq9kbRjZRmOx/lext4fLZIyFd6l0giJOCUf1dnbEJT49d4AgFXIFDe34vEws4GMjExxeOV57WupGH8AjuKGdw9pxEInxdYlMn8J5dv29sgmsj6f5qChlG86fBgI01B+NQP/yGm1vbY1mrdnZtZXZqr2p17EWGUNQr5+TQAAFlX2utqpFbuZkgXoilNFW0efYn0KPjhT7N04rS8sDHmVrbSpuctSBeiEQ1PmxzdsDDKWqAT22a5skcdhfdZFBsq1Vrvp1SU62hkc1vZIVGmXoGGe6KNNulQmgEArDZxZnpL40uhuZM51cpIT8/oloikrFZeW027s5fR4LFWJvAAI23RrTTLtdQKCu53VOR3mJiRyJYULBbgSXhNHD6qNjKMiC8SCSUyqYzdzOZzRN4hNP+hpnC/spbpYpoV6l7wGmoErQ1CDlOMxWM7WoRIV6Qc1YIgk8kopnhLe6K9m5GdGzwGAxk6nWYI6hG9bEwhSCmYZgg9YJoh9IBphtADphlCD5hmCD1gmiH0+D8PUrYsPOKPBwAAAABJRU5ErkJggg==\n",
                        "text/plain": [
                            "<IPython.core.display.Image object>"
                        ]
                    },
                    "metadata": {}
                }
            ]
        },
        {
            "cell_type": "markdown",
            "source": [],
            "metadata": {
                "id": "GabYIa_6cPHW"
            }
        },
        {
            "cell_type": "code",
            "source": [
                "from rich.console import Console\n",
                "from rich.panel import Panel\n",
                "from rich.text import Text\n",
                "import json\n",
                "\n",
                "console = Console()\n",
                "def format_message_content(message):\n",
                "    \"\"\"Convert message content to displayable string\"\"\"\n",
                "    parts = []\n",
                "    tool_calls_processed = False\n",
                "\n",
                "    # Handle main content\n",
                "    if isinstance(message.content, str):\n",
                "        parts.append(message.content)\n",
                "    elif isinstance(message.content, list):\n",
                "        # Handle complex content like tool calls (Anthropic format)\n",
                "        for item in message.content:\n",
                "            if item.get('type') == 'text':\n",
                "                parts.append(item['text'])\n",
                "            elif item.get('type') == 'tool_use':\n",
                "                parts.append(f\"\n🔧 Tool Call: {item['name']}\")\n",
                "                parts.append(f\"   Args: {json.dumps(item['input'], indent=2)}\")\n",
                "                parts.append(f\"   ID: {item.get('id', 'N/A')}\")\n",
                "                tool_calls_processed = True\n",
                "    else:\n",
                "        parts.append(str(message.content))\n",
                "\n",
                "    # Handle tool calls attached to the message (OpenAI format) - only if not already processed\n",
                "    if not tool_calls_processed and hasattr(message, 'tool_calls') and message.tool_calls:\n",
                "        for tool_call in message.tool_calls:\n",
                "            parts.append(f\"\n🔧 Tool Call: {tool_call['name']}\")\n",
                "            parts.append(f\"   Args: {json.dumps(tool_call['args'], indent=2)}\")\n",
                "            parts.append(f\"   ID: {tool_call['id']}\")\n",
                "\n",
                "    return \"\n\".join(parts)\n",
                "\n",
                "def format_messages(messages):\n",
                "    \"\"\"Format and display a list of messages with Rich formatting\"\"\"\n",
                "    for m in messages:\n",
                "        msg_type = m.__class__.__name__.replace('Message', '')\n",
                "        content = format_message_content(m)\n",
                "\n",
                "        if msg_type == 'Human':\n",
                "            console.print(Panel(content, title=\"🧑 Human\", border_style=\"blue\"))\n",
                "        elif msg_type == 'Ai':\n",
                "            console.print(Panel(content, title=\"🤖 Assistant\", border_style=\"green\"))\n",
                "        elif msg_type == 'Tool':\n",
                "            console.print(Panel(content, title=\"🔧 Tool Output\", border_style=\"yellow\"))\n",
                "        else:\n",
                "            console.print(Panel(content, title=f\"📝 {msg_type}\", border_style=\"white\"))\n",
                "\n",
                "\n",
                "from langchain_core.messages import HumanMessage\n",
                "thread = {\"configurable\": {\"thread_id\": \"1\"}}\n",
                "result = scope.invoke({\"messages\": [HumanMessage(content=\"I want to research the club in Windsor.\")]}, config=thread)\n",
                "format_messages(result['messages'])"
            ],
            "metadata": {
                "colab": {
                    "base_uri": "https://localhost:8080/",
                    "height": 269
                },
                "id": "hl9j0zdRcPnV",
                "outputId": "579e93c1-6b34-4be9-b0f4-a9289690ec01"
            },
            "execution_count": 16,
            "outputs": [
                {
                    "output_type": "display_data",
                    "data": {
                        "text/plain": [
                            "\u001b[34m╭─\u001b[0m\u001b[34m──────────────────────────────────────────────────\u001b[0m\u001b[34m 🧑 Human \u001b[0m\u001b[34m───────────────────────────────────────────────────\u001b[0m\u001b[34m─╮\u001b[0m\n",
                            "\u001b[34m│\u001b[0m I want to research the club in Windsor.                                                                         \u001b[34m│\u001b[0m\n",
                            "\u001b[34m╰─────────────────────────────────────────────────────────────────────────────────────────────────────────────────╯\u001b[0m\n"
                        ],
                        "text/html": [
                            "<pre style=\"white-space:pre;overflow-x:auto;line-height:normal;font-family:Menlo,'DejaVu Sans Mono',consolas,'Courier New',monospace\"><span style=\"color: #000080; text-decoration-color: #000080\">╭─────────────────────────────────────────────────── 🧑 Human ────────────────────────────────────────────────────╮</span>\n",
                            "<span style=\"color: #000080; text-decoration-color: #000080\">│</span> I want to research the club in Windsor.                                                                         <span style=\"color: #000080; text-decoration-color: #000080\">│</span>\n",
                            "<span style=\"color: #000080; text-decoration-color: #000080\">╰─────────────────────────────────────────────────────────────────────────────────────────────────────────────────╯</span>\n",
                            "</pre>\n"
                        ]
                    },
                    "metadata": {}
                },
                {
                    "output_type": "display_data",
                    "data": {
                        "text/plain": [
                            "\u001b[37m╭─\u001b[0m\u001b[37m────────────────────────────────────────────────────\u001b[0m\u001b[37m 📝 AI \u001b[0m\u001b[37m────────────────────────────────────────────────────\u001b[0m\u001b[37m─╮\u001b[0m\n",
                            "\u001b[37m│\u001b[0m Could you please specify which club in Windsor you are referring to? For example, is it a sports club, a social \u001b[37m│\u001b[0m\n",
                            "\u001b[37m│\u001b[0m club, a nightclub, or another type of club?                                                                     \u001b[37m│\u001b[0m\n",
                            "\u001b[37m╰─────────────────────────────────────────────────────────────────────────────────────────────────────────────────╯\u001b[0m\n"
                        ],
                        "text/html": [
                            "<pre style=\"white-space:pre;overflow-x:auto;line-height:normal;font-family:Menlo,'DejaVu Sans Mono',consolas,'Courier New',monospace\"><span style=\"color: #c0c0c0; text-decoration-color: #c0c0c0\">╭───────────────────────────────────────────────────── 📝 AI ─────────────────────────────────────────────────────╮</span>\n",
                            "<span style=\"color: #c0c0c0; text-decoration-color: #c0c0c0\">│</span> Could you please specify which club in Windsor you are referring to? For example, is it a sports club, a social <span style=\"color: #c0c0c0; text-decoration-color: #c0c0c0\">│</span>\n",
                            "<span style=\"color: #c0c0c0; text-decoration-color: #c0c0c0\">│</span> club, a nightclub, or another type of club?                                                                     <span style=\"color: #c0c0c0; text-decoration-color: #c0c0c0\">│</span>\n",
                            "<span style=\"color: #c0c0c0; text-decoration-color: #c0c0c0\">╰─────────────────────────────────────────────────────────────────────────────────────────────────────────────────╯</span>\n",
                            "</pre>\n"
                        ]
                    },
                    "metadata": {}
                },
                {
                    "output_type": "display_data",
                    "data": {
                        "text/plain": [
                            "\u001b[34m╭─\u001b[0m\u001b[34m──────────────────────────────────────────────────\u001b[0m\u001b[34m 🧑 Human \u001b[0m\u001b[34m───────────────────────────────────────────────────\u001b[0m\u001b[34m─╮\u001b[0m\n",
                            "\u001b[34m│\u001b[0m I want to research the club in Windsor.                                                                         \u001b[34m│\u001b[0m\n",
                            "\u001b[34m╰─────────────────────────────────────────────────────────────────────────────────────────────────────────────────╯\u001b[0m\n"
                        ],
                        "text/html": [
                            "<pre style=\"white-space:pre;overflow-x:auto;line-height:normal;font-family:Menlo,'DejaVu Sans Mono',consolas,'Courier New',monospace\"><span style=\"color: #000080; text-decoration-color: #000080\">╭─────────────────────────────────────────────────── 🧑 Human ────────────────────────────────────────────────────╮</span>\n",
                            "<span style=\"color: #000080; text-decoration-color: #000080\">│</span> I want to research the club in Windsor.                                                                         <span style=\"color: #000080; text-decoration-color: #000080\">│</span>\n",
                            "<span style=\"color: #000080; text-decoration-color: #000080\">╰─────────────────────────────────────────────────────────────────────────────────────────────────────────────────╯</span>\n",
                            "</pre>\n"
                        ]
                    },
                    "metadata": {}
                },
                {
                    "output_type": "display_data",
                    "data": {
                        "text/plain": [
                            "\u001b[37m╭─\u001b[0m\u001b[37m────────────────────────────────────────────────────\u001b[0m\u001b[37m 📝 AI \u001b[0m\u001b[37m────────────────────────────────────────────────────\u001b[0m\u001b[37m─╮\u001b[0m\n",
                            "\u001b[37m│\u001b[0m Could you please specify which club in Windsor you are referring to? For example, is it a sports club, a social \u001b[37m│\u001b[0m\n",
                            "\u001b[37m│\u001b[0m club, a nightclub, or another type of club?                                                                     \u001b[37m│\u001b[0m\n",
                            "\u001b[37m╰─────────────────────────────────────────────────────────────────────────────────────────────────────────────────╯\u001b[0m\n"
                        ],
                        "text/html": [
                            "<pre style=\"white-space:pre;overflow-x:auto;line-height:normal;font-family:Menlo,'DejaVu Sans Mono',consolas,'Courier New',monospace\"><span style=\"color: #c0c0c0; text-decoration-color: #c0c0c0\">╭───────────────────────────────────────────────────── 📝 AI ─────────────────────────────────────────────────────╮</span>\n",
                            "<span style=\"color: #c0c0c0; text-decoration-color: #c0c0c0\">│</span> Could you please specify which club in Windsor you are referring to? For example, is it a sports club, a social <span style=\"color: #c0c0c0; text-decoration-color: #c0c0c0\">│</span>\n",
                            "<span style=\"color: #c0c0c0; text-decoration-color: #c0c0c0\">│</span> club, a nightclub, or another type of club?                                                                     <span style=\"color: #c0c0c0; text-decoration-color: #c0c0c0\">│</span>\n",
                            "<span style=\"color: #c0c0c0; text-decoration-color: #c0c0c0\">╰─────────────────────────────────────────────────────────────────────────────────────────────────────────────────╯</span>\n",
                            "</pre>\n"
                        ]
                    },
                    "metadata": {}
                }
            ]
        },
        {
            "cell_type": "code",
            "source": [
                "result = scope.invoke({\"messages\": [HumanMessage(content=\"Let's examine the crowd ratio and drink prices to assess the best night clubs in windsor.\")]}, config=thread)\n",
                "format_messages(result['messages'])"
            ],
            "metadata": {
                "colab": {
                    "base_uri": "https://localhost:8080/",
                    "height": 411
                },
                "id": "J5lz7-9Re4Un",
                "outputId": "e5aca783-a91d-4f7c-e33a-ea5bc7430a27"
            },
            "execution_count": 17,
            "outputs": [
                {
                    "output_type": "display_data",
                    "data": {
                        "text/plain": [
                            "\u001b[34m╭─\u001b[0m\u001b[34m──────────────────────────────────────────────────\u001b[0m\u001b[34m 🧑 Human \u001b[0m\u001b[34m───────────────────────────────────────────────────\u001b[0m\u001b[34m─╮\u001b[0m\n",
                            "\u001b[34m│\u001b[0m I want to research the club in Windsor.                                                                         \u001b[34m│\u001b[0m\n",
                            "\u001b[34m╰─────────────────────────────────────────────────────────────────────────────────────────────────────────────────╯\u001b[0m\n"
                        ],
                        "text/html": [
                            "<pre style=\"white-space:pre;overflow-x:auto;line-height:normal;font-family:Menlo,'DejaVu Sans Mono',consolas,'Courier New',monospace\"><span style=\"color: #000080; text-decoration-color: #000080\">╭─────────────────────────────────────────────────── 🧑 Human ────────────────────────────────────────────────────╮</span>\n",
                            "<span style=\"color: #000080; text-decoration-color: #000080\">│</span> I want to research the club in Windsor.                                                                         <span style=\"color: #000080; text-decoration-color: #000080\">│</span>\n",
                            "<span style=\"color: #000080; text-decoration-color: #000080\">╰─────────────────────────────────────────────────────────────────────────────────────────────────────────────────╯</span>\n",
                            "</pre>\n"
                        ]
                    },
                    "metadata": {}
                },
                {
                    "output_type": "display_data",
                    "data": {
                        "text/plain": [
                            "\u001b[37m╭─\u001b[0m\u001b[37m────────────────────────────────────────────────────\u001b[0m\u001b[37m 📝 AI \u001b[0m\u001b[37m────────────────────────────────────────────────────\u001b[0m\u001b[37m─╮\u001b[0m\n",
                            "\u001b[37m│\u001b[0m Could you please specify which club in Windsor you are referring to? For example, is it a sports club, a social \u001b[37m│\u001b[0m\n",
                            "\u001b[37m│\u001b[0m club, a nightclub, or another type of club?                                                                     \u001b[37m│\u001b[0m\n",
                            "\u001b[37m╰─────────────────────────────────────────────────────────────────────────────────────────────────────────────────╯\u001b[0m\n"
                        ],
                        "text/html": [
                            "<pre style=\"white-space:pre;overflow-x:auto;line-height:normal;font-family:Menlo,'DejaVu Sans Mono',consolas,'Courier New',monospace\"><span style=\"color: #c0c0c0; text-decoration-color: #c0c0c0\">╭───────────────────────────────────────────────────── 📝 AI ─────────────────────────────────────────────────────╮</span>\n",
                            "<span style=\"color: #c0c0c0; text-decoration-color: #c0c0c0\">│</span> Could you please specify which club in Windsor you are referring to? For example, is it a sports club, a social <span style=\"color: #c0c0c0; text-decoration-color: #c0c0c0\">│</span>\n",
                            "<span style=\"color: #c0c0c0; text-decoration-color: #c0c0c0\">│</span> club, a nightclub, or another type of club?                                                                     <span style=\"color: #c0c0c0; text-decoration-color: #c0c0c0\">│</span>\n",
                            "<span style=\"color: #c0c0c0; text-decoration-color: #c0c0c0\">╰─────────────────────────────────────────────────────────────────────────────────────────────────────────────────╯</span>\n",
                            "</pre>\n"
                        ]
                    },
                    "metadata": {}
                },
                {
                    "output_type": "display_data",
                    "data": {
                        "text/plain": [
                            "\u001b[34m╭─\u001b[0m\u001b[34m──────────────────────────────────────────────────\u001b[0m\u001b[34m 🧑 Human \u001b[0m\u001b[34m───────────────────────────────────────────────────\u001b[0m\u001b[34m─╮\u001b[0m\n",
                            "\u001b[34m│\u001b[0m I want to research the club in Windsor.                                                                         \u001b[34m│\u001b[0m\n",
                            "\u001b[34m╰─────────────────────────────────────────────────────────────────────────────────────────────────────────────────╯\u001b[0m\n"
                        ],
                        "text/html": [
                            "<pre style=\"white-space:pre;overflow-x:auto;line-height:normal;font-family:Menlo,'DejaVu Sans Mono',consolas,'Courier New',monospace\"><span style=\"color: #000080; text-decoration-color: #000080\">╭─────────────────────────────────────────────────── 🧑 Human ────────────────────────────────────────────────────╮</span>\n",
                            "<span style=\"color: #000080; text-decoration-color: #000080\">│</span> I want to research the club in Windsor.                                                                         <span style=\"color: #000080; text-decoration-color: #000080\">│</span>\n",
                            "<span style=\"color: #000080; text-decoration-color: #000080\">╰─────────────────────────────────────────────────────────────────────────────────────────────────────────────────╯</span>\n",
                            "</pre>\n"
                        ]
                    },
                    "metadata": {}
                },
                {
                    "output_type": "display_data",
                    "data": {
                        "text/plain": [
                            "\u001b[37m╭─\u001b[0m\u001b[37m────────────────────────────────────────────────────\u001b[0m\u001b[37m 📝 AI \u001b[0m\u001b[37m────────────────────────────────────────────────────\u001b[0m\u001b[37m─╮\u001b[0m\n",
                            "\u001b[37m│\u001b[0m Could you please specify which club in Windsor you are referring to? For example, is it a sports club, a social \u001b[37m│\u001b[0m\n",
                            "\u001b[37m│\u001b[0m club, a nightclub, or another type of club?                                                                     \u001b[37m│\u001b[0m\n",
                            "\u001b[37m╰─────────────────────────────────────────────────────────────────────────────────────────────────────────────────╯\u001b[0m\n"
                        ],
                        "text/html": [
                            "<pre style=\"white-space:pre;overflow-x:auto;line-height:normal;font-family:Menlo,'DejaVu Sans Mono',consolas,'Courier New',monospace\"><span style=\"color: #c0c0c0; text-decoration-color: #c0c0c0\">╭───────────────────────────────────────────────────── 📝 AI ─────────────────────────────────────────────────────╮</span>\n",
                            "<span style=\"color: #c0c0c0; text-decoration-color: #c0c0c0\">│</span> Could you please specify which club in Windsor you are referring to? For example, is it a sports club, a social <span style=\"color: #c0c0c0; text-decoration-color: #c0c0c0\">│</span>\n",
                            "<span style=\"color: #c0c0c0; text-decoration-color: #c0c0c0\">│</span> club, a nightclub, or another type of club?                                                                     <span style=\"color: #c0c0c0; text-decoration-color: #c0c0c0\">│</span>\n",
                            "<span style=\"color: #c0c0c0; text-decoration-color: #c0c0c0\">╰─────────────────────────────────────────────────────────────────────────────────────────────────────────────────╯</span>\n",
                            "</pre>\n"
                        ]
                    },
                    "metadata": {}
                },
                {
                    "output_type": "display_data",
                    "data": {
                        "text/plain": [
                            "\u001b[34m╭─\u001b[0m\u001b[34m──────────────────────────────────────────────────\u001b[0m\u001b[34m 🧑 Human \u001b[0m\u001b[34m───────────────────────────────────────────────────\u001b[0m\u001b[34m─╮\u001b[0m\n",
                            "\u001b[34m│\u001b[0m Let's examine the crowd ratio and drink prices to assess the best night clubs in windsor.                       \u001b[34m│\u001b[0m\n",
                            "\u001b[34m╰─────────────────────────────────────────────────────────────────────────────────────────────────────────────────╯\u001b[0m\n"
                        ],
                        "text/html": [
                            "<pre style=\"white-space:pre;overflow-x:auto;line-height:normal;font-family:Menlo,'DejaVu Sans Mono',consolas,'Courier New',monospace\"><span style=\"color: #000080; text-decoration-color: #000080\">╭─────────────────────────────────────────────────── 🧑 Human ────────────────────────────────────────────────────╮</span>\n",
                            "<span style=\"color: #000080; text-decoration-color: #000080\">│</span> Let's examine the crowd ratio and drink prices to assess the best night clubs in windsor.                       <span style=\"color: #000080; text-decoration-color: #000080\">│</span>\n",
                            "<span style=\"color: #000080; text-decoration-color: #000080\">╰─────────────────────────────────────────────────────────────────────────────────────────────────────────────────╯</span>\n",
                            "</pre>\n"
                        ]
                    },
                    "metadata": {}
                },
                {
                    "output_type": "display_data",
                    "data": {
                        "text/plain": [
                            "\u001b[37m╭─\u001b[0m\u001b[37m────────────────────────────────────────────────────\u001b[0m\u001b[37m 📝 AI \u001b[0m\u001b[37m────────────────────────────────────────────────────\u001b[0m\u001b[37m─╮\u001b[0m\n",
                            "\u001b[37m│\u001b[0m Thank you for clarifying your request. You would like to assess the best night clubs in Windsor based on crowd  \u001b[37m│\u001b[0m\n",
                            "\u001b[37m│\u001b[0m ratio and drink prices. I now have sufficient information to proceed and will begin researching the top night   \u001b[37m│\u001b[0m\n",
                            "\u001b[37m│\u001b[0m clubs in Windsor, focusing on these criteria.                                                                   \u001b[37m│\u001b[0m\n",
                            "\u001b[37m╰─────────────────────────────────────────────────────────────────────────────────────────────────────────────────╯\u001b[0m\n"
                        ],
                        "text/html": [
                            "<pre style=\"white-space:pre;overflow-x:auto;line-height:normal;font-family:Menlo,'DejaVu Sans Mono',consolas,'Courier New',monospace\"><span style=\"color: #c0c0c0; text-decoration-color: #c0c0c0\">╭───────────────────────────────────────────────────── 📝 AI ─────────────────────────────────────────────────────╮</span>\n",
                            "<span style=\"color: #c0c0c0; text-decoration-color: #c0c0c0\">│</span> Thank you for clarifying your request. You would like to assess the best night clubs in Windsor based on crowd  <span style=\"color: #c0c0c0; text-decoration-color: #c0c0c0\">│</span>\n",
                            "<span style=\"color: #c0c0c0; text-decoration-color: #c0c0c0\">│</span> ratio and drink prices. I now have sufficient information to proceed and will begin researching the top night   <span style=\"color: #c0c0c0; text-decoration-color: #c0c0c0\">│</span>\n",
                            "<span style=\"color: #c0c0c0; text-decoration-color: #c0c0c0\">│</span> clubs in Windsor, focusing on these criteria.                                                                   <span style=\"color: #c0c0c0; text-decoration-color: #c0c0c0\">│</span>\n",
                            "<span style=\"color: #c0c0c0; text-decoration-color: #c0c0c0\">╰─────────────────────────────────────────────────────────────────────────────────────────────────────────────────╯</span>\n",
                            "</pre>\n"
                        ]
                    },
                    "metadata": {}
                }
            ]
        },
        {
            "cell_type": "markdown",
            "source": [],
            "metadata": {
                "id": "Wusx3lkcfKTg"
            }
        },
        {
            "cell_type": "code",
            "source": [
                "from rich.markdown import Markdown\n",
                "Markdown(result[\"research_brief\"])"
            ],
            "metadata": {
                "colab": {
                    "base_uri": "https://localhost:8080/",
                    "height": 113
                },
                "id": "i1Ww1KEPfKiR",
                "outputId": "1fffa878-556c-4dbf-a140-8b533700e98f"
            },
            "execution_count": 18,
            "outputs": [
                {
                    "output_type": "execute_result",
                    "data": {
                        "text/plain": [
                            "I want to research the best night clubs in Windsor, with a primary focus on comparing crowd ratios (such as how    \n",
                            "crowded the clubs typically are) and drink prices. My goal is to assess which night clubs offer the best experience\n",
                            "based on these two criteria. I have not specified any particular nights of the week, types of music, age           \n",
                            "demographics, or other factors, so these aspects should be treated as open considerations unless relevant to       \n",
                            "understanding crowd ratios or drink pricing. Please prioritize information from official club websites, reputable  \n",
                            "review platforms, and direct user reviews where available.                                                         \n"
                        ],
                        "text/html": [
                            "<pre style=\"white-space:pre;overflow-x:auto;line-height:normal;font-family:Menlo,'DejaVu Sans Mono',consolas,'Courier New',monospace\">I want to research the best night clubs in Windsor, with a primary focus on comparing crowd ratios (such as how    \n",
                            "crowded the clubs typically are) and drink prices. My goal is to assess which night clubs offer the best experience\n",
                            "based on these two criteria. I have not specified any particular nights of the week, types of music, age           \n",
                            "demographics, or other factors, so these aspects should be treated as open considerations unless relevant to       \n",
                            "understanding crowd ratios or drink pricing. Please prioritize information from official club websites, reputable  \n",
                            "review platforms, and direct user reviews where available.                                                         \n",
                            "</pre>\n"
                        ]
                    },
                    "metadata": {},
                    "execution_count": 18
                }
            ]
        },
        {
            "cell_type": "markdown",
            "source": [
                "##Now Moving To Evalutation with out Langsmith.\n"
            ],
            "metadata": {
                "id": "Z2Es3EUdftNr"
            }
        },
        {
            "cell_type": "code",
            "source": [
                "from langchain_core.messages import AIMessage\n",
                "import os\n",
                "from langsmith import Client\n",
                "\n",
                "conversation_1 = [\n",
                "    HumanMessage(content=\"What's the best way to invest $50,000 for retirement?\"),\n",
                "    AIMessage(content=\"Could you please provide some additional information to tailor the investment advice for your $50,000 retirement goal? Specifically:\n Your current age or desired retirement age\n Your risk tolerance (low, medium, high)\n Any preferences for investment types (e.g., stocks, bonds, mutual funds, real estate)\n Whether you are investing through a tax-advantaged account (e.g., IRA, 401(k)) or a regular brokerage account\n This will help me provide more personalized and relevant suggestions.\"),\n",
                "    HumanMessage(content=\"I'm 25 and I want to retire by 45. My risk tolerance is high right now but I think will decrease over time. I have heard that stocks and ETFs are a good choice, but I'm open to anything. And I already have a 401k, but this would just be through a regular brokerage account.\"),\n",
                "]\n",
                "\n",
                "conversation_2 = [\n",
                "    HumanMessage(content=\"I am looking for an apartment in NYC, can you help me?\"),\n",
                "    AIMessage(content=\"Could you please specify your apartment preferences? For example:\n Desired neighborhoods or boroughs\n Number of bedrooms/bathrooms\n Budget range (monthly rent)\n Any amenities or must-have features\n Preferred move-in date\n This information will help me provide the most relevant apartment options in NYC.\"),\n",
                "    HumanMessage(content=\"I'd prefer to live in Chelsea, Flatiron, or West Village. I'm looking for a 2 bed 2 bath, and I am looking for monthly rent below 7k. I'd like this to be a doorman building and have an in unit washer and dryer, but it's okay if there's no washer dryer. It's a plus if the building has a gym. And I'd like to move in in September 2025.\"),\n",
                "]\n",
                "\n",
                "criteria_1 = [\n",
                "    \"Current age is 25\",\n",
                "    \"Desired retirement age is 45\",\n",
                "    \"Current risk tolerance is high\",\n",
                "    \"Interested in investing in stocks and ETFs\",\n",
                "    \"Open to forms of investment beyond stocks and ETFs\"\n",
                "    \"Investment account is a regular brokerage account\",\n",
                "]\n",
                "\n",
                "criteria_2 = [\n",
                "    \"Looking for a 2 bed 2 bath apartment in Chelsea, Flatiron, or West Village\",\n",
                "    \"Monthly rent below 7k\",\n",
                "    \"Should be in a doorman building\",\n",
                "    \"Ideally have an in unit washer and dryer but not strict\",\n",
                "    \"Ideally have a gym but not strict\",\n",
                "    \"Move in date is September 2025\"\n",
                "]\n",
                "\n",
                "# Initialize the LangSmith client\n",
                "langsmith_client = Client(api_key=userdata.get(\"LANGSMITH_API_KEY\"))\n",
                "\n",
                "# Create the dataset if it doesn't exist\n",
                "dataset_name = \"deep_research_scoping\"\n",
                "if not langsmith_client.has_dataset(dataset_name=dataset_name):\n",
                "    dataset = langsmith_client.create_dataset(\n",
                "        dataset_name=dataset_name,\n",
                "        description=\"A dataset that measures the quality of research briefs generated from an input conversation\",\n",
                "    )\n",
                "    dataset_id = dataset.id\n",
                "else:\n",
                "    # Get the existing dataset to retrieve its ID\n",
                "    dataset = langsmith_client.read_dataset(dataset_name=dataset_name)\n",
                "    dataset_id = dataset.id\n",
                "\n",
                "\n",
                "# Add the examples to the dataset\n",
                "langsmith_client.create_examples(\n",
                "    dataset_id=dataset_id,\n",
                "    inputs=[{\"messages\": conversation_1}, {\"messages\": conversation_2}],\n",
                "    outputs=[{\"criteria\": criteria_1}, {\"criteria\": criteria_2}],\n",
                ")"
            ],
            "metadata": {
                "colab": {
                    "base_uri": "https://localhost:8080/"
                },
                "id": "tSzHRqzOfxp0",
                "outputId": "76420f9d-ae06-4347-e4bd-de87a043e942"
            },
            "execution_count": 33,
            "outputs": [
                {
                    "output_type": "execute_result",
                    "data": {
                        "text/plain": [
                            "{'example_ids': ['2c5c116a-a568-4c33-a171-eb18b49a283d',\n",
                            "  '4b619605-960a-4ea7-832e-1a48c41fc935'],\n",
                            " 'count': 2}"
                        ]
                    },
                    "metadata": {},
                    "execution_count": 33
                }
            ]
        },
        {
            "cell_type": "markdown",
            "source": [
                "###Now, we need to write an evaluator that will compare our research brief against the success criteria that we have specified for each example. For this, we'll use an LLM-as-judge."
            ],
            "metadata": {
                "id": "zqf-HgtbgSqc"
            }
        },
        {
            "cell_type": "code",
            "source": [
                "BRIEF_CRITERIA_PROMPT = \"\"\"\n",
                "  <role>\n",
                "  You are an expert research brief evaluator specializing in assessing whether generated research briefs accurately capture user-specified criteria without loss of important details.\n",
                "  </role>\n",
                "\n",
                "  <task>\n",
                "  Determine if the research brief adequately captures the specific success criterion provided. Return a binary assessment with detailed reasoning.\n",
                "  </task>\n",
                "\n",
                "  <evaluation_context>\n",
                "  Research briefs are critical for guiding downstream research agents. Missing or inadequately captured criteria can lead to incomplete research that fails to address user needs. Accurate evaluation ensures research quality and user satisfaction.\n",
                "  </evaluation_context>\n",
                "\n",
                "  <criterion_to_evaluate>\n",
                "  {criterion}\n",
                "  </criterion_to_evaluate>\n",
                "\n",
                "  <research_brief>\n",
                "  {research_brief}\n",
                "  </research_brief>\n",
                "\n",
                "  <evaluation_guidelines>\n",
                "  CAPTURED (criterion is adequately represented) if:\n",
                "  - The research brief explicitly mentions or directly addresses the criterion\n",
                "  - The brief contains equivalent language or concepts that clearly cover the criterion\n",
                "  - The criterion's intent is preserved even if worded differently\n",
                "  - All key aspects of the criterion are represented in the brief\n",
                "\n",
                "  NOT CAPTURED (criterion is missing or inadequately addressed) if:\n",
                "  - The criterion is completely absent from the research brief\n",
                "  - The brief only partially addresses the criterion, missing important aspects\n",
                "  - The criterion is implied but not clearly stated or actionable for researchers\n",
                "  - The brief contradicts or conflicts with the criterion\n",
                "\n",
                "  <evaluation_examples>\n",
                "  Example 1 - CAPTURED:\n",
                "  Criterion: \"Current age is 25\"\n",
                "  Brief: \"...investment advice for a 25-year-old investor...\"\n",
                "  Judgment: CAPTURED - age is explicitly mentioned\n",
                "\n",
                "  Example 2 - NOT CAPTURED:\n",
                "  Criterion: \"Monthly rent below 7k\"\n",
                "  Brief: \"...find apartments in Manhattan with good amenities...\"\n",
                "  Judgment: NOT CAPTURED - budget constraint is completely missing\n",
                "\n",
                "  Example 3 - CAPTURED:\n",
                "  Criterion: \"High risk tolerance\"\n",
                "  Brief: \"...willing to accept significant market volatility for higher returns...\"\n",
                "  Judgment: CAPTURED - equivalent concept expressed differently\n",
                "\n",
                "  Example 4 - NOT CAPTURED:\n",
                "  Criterion: \"Doorman building required\"\n",
                "  Brief: \"...find apartments with modern amenities...\"\n",
                "  Judgment: NOT CAPTURED - specific doorman requirement not mentioned\n",
                "  </evaluation_examples>\n",
                "  </evaluation_guidelines>\n",
                "\n",
                "  <output_instructions>\n",
                "  1. Carefully examine the research brief for evidence of the specific criterion\n",
                "  2. Look for both explicit mentions and equivalent concepts\n",
                "  3. Provide specific quotes or references from the brief as evidence\n",
                "  4. Be systematic - when in doubt about partial coverage, lean toward NOT CAPTURED for quality assurance\n",
                "  5. Focus on whether a researcher could act on this criterion based on the brief alone\n",
                "  </output_instructions>\"\"\"\n",
                "\n",
                "BRIEF_HALLUCINATION_PROMPT = \"\"\"\n",
                "  ## Brief Hallucination Evaluator\n",
                "\n",
                "  <role>\n",
                "  You are a meticulous research brief auditor specializing in identifying unwarranted assumptions that could mislead research efforts.\n",
                "  </role>\n",
                "\n",
                "  <task>\n",
                "  Determine if the research brief makes assumptions beyond what the user explicitly provided. Return a binary pass/fail judgment.\n",
                "  </task>\n",
                "\n",
                "  <evaluation_context>\n",
                "  Research briefs should only include requirements, preferences, and constraints that users explicitly stated or clearly implied. Adding assumptions can lead to research that misses the user's actual needs.\n",
                "  </evaluation_context>\n",
                "\n",
                "  <research_brief>\n",
                "  {research_brief}\n",
                "  </research_brief>\n",
                "\n",
                "  <success_criteria>\n",
                "  {success_criteria}\n",
                "  </success_criteria>\n",
                "\n",
                "  <evaluation_guidelines>\n",
                "  PASS (no unwarranted assumptions) if:\n",
                "  - Brief only includes explicitly stated user requirements\n",
                "  - Any inferences are clearly marked as such or logically necessary\n",
                "  - Source suggestions are general recommendations, not specific assumptions\n",
                "  - Brief stays within the scope of what the user actually requested\n",
                "\n",
                "  FAIL (contains unwarranted assumptions) if:\n",
                "  - Brief adds specific preferences user never mentioned\n",
                "  - Brief assumes demographic, geographic, or contextual details not provided\n",
                "  - Brief narrows scope beyond user's stated constraints\n",
                "  - Brief introduces requirements user didn't specify\n",
                "\n",
                "  <evaluation_examples>\n",
                "  Example 1 - PASS:\n",
                "  User criteria: [\"Looking for coffee shops\", \"In San Francisco\"]\n",
                "  Brief: \"...research coffee shops in San Francisco area...\"\n",
                "  Judgment: PASS - stays within stated scope\n",
                "\n",
                "  Example 2 - FAIL:\n",
                "  User criteria: [\"Looking for coffee shops\", \"In San Francisco\"]\n",
                "  Brief: \"...research trendy coffee shops for young professionals in San Francisco...\"\n",
                "  Judgment: FAIL - assumes \"trendy\" and \"young professionals\" demographics\n",
                "\n",
                "  Example 3 - PASS:\n",
                "  User criteria: [\"Budget under $3000\", \"2 bedroom apartment\"]\n",
                "  Brief: \"...find 2-bedroom apartments within $3000 budget, consulting rental sites and local listings...\"\n",
                "  Judgment: PASS - source suggestions are appropriate, no preference assumptions\n",
                "\n",
                "  Example 4 - FAIL:\n",
                "  User criteria: [\"Budget under $3000\", \"2 bedroom apartment\"]\n",
                "  Brief: \"...find modern 2-bedroom apartments under $3000 in safe neighborhoods with good schools...\"\n",
                "  Judgment: FAIL - assumes \"modern\", \"safe\", and \"good schools\" preferences\n",
                "  </evaluation_examples>\n",
                "  </evaluation_guidelines>\n",
                "\n",
                "  <output_instructions>\n",
                "  Carefully scan the brief for any details not explicitly provided by the user. Be strict - when in doubt about whether something was user-specified, lean toward FAIL.\n",
                "  </output_instructions>\"\"\""
            ],
            "metadata": {
                "id": "Ic0CnwEugA9-"
            },
            "execution_count": 29,
            "outputs": []
        },
        {
            "cell_type": "markdown",
            "source": [],
            "metadata": {
                "id": "08wUOJymgx4P"
            }
        },
        {
            "cell_type": "code",
            "source": [
                "from typing_extensions import cast\n",
                "from pydantic import BaseModel, Field\n",
                "from langchain_openai import ChatOpenAI\n",
                "from google.colab import userdata\n",
                "\n",
                "class Criteria(BaseModel):\n",
                "    \"\"\"\n",
                "    Individual success criteria evaluation result.\n",
                "\n",
                "    This model represents a single evaluation criteria that should be present\n",
                "    in the research brief, along with a detailed assessment of whether it was\n",
                "    successfully captured and the reasoning behind that assessment.\n",
                "    \"\"\"\n",
                "    criteria_text: str = Field(\n",
                "        description=\"The specific success criteria being evaluated (e.g., 'Current age is 25', 'Monthly rent below 7k')\"\n",
                "    )\n",
                "    reasoning: str = Field(\n",
                "        description=\"Detailed explanation of why this criteria is or isn't captured in the research brief, including specific evidence from the brief\"\n",
                "    )\n",
                "    is_captured: bool = Field(\n",
                "        description=\"Whether this specific criteria is adequately captured in the research brief (True) or missing/inadequately addressed (False)\"\n",
                "    )\n",
                "\n",
                "def evaluate_success_criteria(outputs: dict, reference_outputs: dict):\n",
                "    \"\"\"\n",
                "    Evaluate whether the research brief captures all required success criteria.\n",
                "\n",
                "    This function evaluates each criterion individually to provide focused assessment\n",
                "    and detailed reasoning for each evaluation decision.\n",
                "\n",
                "    Args:\n",
                "        outputs: Dictionary containing the research brief to evaluate\n",
                "        reference_outputs: Dictionary containing the list of success criteria\n",
                "\n",
                "    Returns:\n",
                "        Dict with evaluation results including score (0.0 to 1.0)\n",
                "    \"\"\"\n",
                "    research_brief = outputs[\"research_brief\"]\n",
                "    success_criteria = reference_outputs[\"criteria\"]\n",
                "\n",
                "    model = ChatOpenAI(model=\"gpt-4.1\", temperature=0, openai_api_key=userdata.get(\"OPENAI_API_KEY\"))\n",
                "    structured_output_model = model.with_structured_output(Criteria)\n",
                "\n",
                "    # Run evals\n",
                "    responses = structured_output_model.batch([\n",
                "    [\n",
                "        HumanMessage(\n",
                "            content=BRIEF_CRITERIA_PROMPT.format(\n",
                "                research_brief=research_brief,\n",
                "                criterion=criterion\n",
                "            )\n",
                "        )\n",
                "    ]\n",
                "    for criterion in success_criteria])\n",
                "\n",
                "    # Ensure the criteria_text field is populated correctly\n",
                "    individual_evaluations = [\n",
                "        Criteria(\n",
                "            reasoning=response.reasoning,\n",
                "            criteria_text=criterion,\n",
                "            is_captured=response.is_captured\n",
                "        )\n",
                "        for criterion, response in zip(success_criteria, responses)\n",
                "    ]\n",
                "\n",
                "    # Calculate overall score as percentage of captured criteria\n",
                "    captured_count = sum(1 for eval_result in individual_evaluations if eval_result.is_captured)\n",
                "    total_count = len(individual_evaluations)\n",
                "\n",
                "    return {\n",
                "        \"key\": \"success_criteria_score\",\n",
                "        \"score\": captured_count / total_count if total_count > 0 else 0.0,\n",
                "        \"individual_evaluations\": [\n",
                "            {\n",
                "                \"criteria\": eval_result.criteria_text,\n",
                "                \"captured\": eval_result.is_captured,\n",
                "                \"reasoning\": eval_result.reasoning\n",
                "            }\n",
                "            for eval_result in individual_evaluations\n",
                "        ]\n",
                "    }"
            ],
            "metadata": {
                "id": "CjE7zXR7gyHd"
            },
            "execution_count": 35,
            "outputs": []
        },
        {
            "cell_type": "markdown",
            "source": [],
            "metadata": {
                "id": "JZSos1axhFCs"
            }
        },
        {
            "cell_type": "code",
            "source": [
                "# Improved NoAssumptions class with reasoning field and enhanced descriptions\n",
                "class NoAssumptions(BaseModel):\n",
                "    \"\"\"\n",
                "    Evaluation model for checking if research brief makes unwarranted assumptions.\n",
                "\n",
                "    This model evaluates whether the research brief contains any assumptions,\n",
                "    inferences, or additions that were not explicitly stated by the user in their\n",
                "    original conversation. It provides detailed reasoning for the evaluation decision.\n",
                "    \"\"\"\n",
                "    no_assumptions: bool = Field(\n",
                "        description=\"Whether the research brief avoids making unwarranted assumptions. True if the brief only includes information explicitly provided by the user, False if it makes assumptions beyond what was stated.\"\n",
                "    )\n",
                "    reasoning: str = Field(\n",
                "        description=\"Detailed explanation of the evaluation decision, including specific examples of any assumptions found or confirmation that no assumptions were made beyond the user's explicit statements.\"\n",
                "    )\n",
                "\n",
                "def evaluate_no_assumptions(outputs: dict, reference_outputs: dict):\n",
                "    \"\"\"\n",
                "    Evaluate whether the research brief avoids making unwarranted assumptions.\n",
                "\n",
                "    This evaluator checks that the research brief only includes information\n",
                "    and requirements that were explicitly provided by the user, without\n",
                "    making assumptions about unstated preferences or requirements.\n",
                "\n",
                "    Args:\n",
                "        outputs: Dictionary containing the research brief to evaluate\n",
                "        reference_outputs: Dictionary containing the success criteria for reference\n",
                "\n",
                "    Returns:\n",
                "        Dict with evaluation results including boolean score and detailed reasoning\n",
                "    \"\"\"\n",
                "    research_brief = outputs[\"research_brief\"]\n",
                "    success_criteria = reference_outputs[\"criteria\"]\n",
                "\n",
                "    model = ChatOpenAI(model=\"gpt-4.1\", temperature=0, openai_api_key=userdata.get(\"OPENAI_API_KEY\"))\n",
                "    structured_output_model = model.with_structured_output(NoAssumptions)\n",
                "\n",
                "    response = structured_output_model.invoke([\n",
                "        HumanMessage(content=BRIEF_HALLUCINATION_PROMPT.format(\n",
                "            research_brief=research_brief,\n",
                "            success_criteria=str(success_criteria)\n",
                "        ))\n",
                "    ])\n",
                "\n",
                "    return {\n",
                "        \"key\": \"no_assumptions_score\",\n",
                "        \"score\": response.no_assumptions,\n",
                "        \"reasoning\": response.reasoning\n",
                "    }"
            ],
            "metadata": {
                "id": "BZZt699shFWF"
            },
            "execution_count": 31,
            "outputs": []
        },
        {
            "cell_type": "markdown",
            "source": [],
            "metadata": {
                "id": "qBBgsRNrhLxD"
            }
        },
        {
            "cell_type": "code",
            "metadata": {
                "colab": {
                    "base_uri": "https://localhost:8080/",
                    "height": 338,
                    "referenced_widgets": [
                        "7636042d76604dc6b49ec194f0f089a8",
                        "9936904215394a96abb58ee09dc21a3d",
                        "bfcfa98cc97048d789dbfe3d5c703ada",
                        "1827bd654b824f549f4682c450ca7fe4",
                        "b6e6c2c0c63c4ee78f9f245c5d27242b",
                        "fd3e1643c76a4f3386cf9c7efe0505c0",
                        "78d8b0909ac54c828a399d1531e21bcd",
                        "af69791b3c6c445989b03049af90f26c",
                        "f7f53580798b4468b8c4460927d975bc",
                        "19902e6d9d6b43e19d510a00c2c43b73",
                        "d1bd453c98224d2fb12c308cc3495563"
                    ]
                },
                "id": "9b03b831",
                "outputId": "52405b81-15dd-41f8-8b04-969615e5c694"
            },
            "source": [
                "import uuid\n",
                "\n",
                "def target_func(inputs: dict):\n",
                "    config = {\"configurable\": {\"thread_id\": uuid.uuid4()}}\n",
                "    return scope.invoke(inputs, config=config)\n",
                "\n",
                "langsmith_client.evaluate(\n",
                "    target_func,\n",
                "    data=dataset_name,\n",
                "    evaluators=[evaluate_success_criteria, evaluate_no_assumptions],\n",
                "    experiment_prefix=\"Deep Research Scoping\",\n",
                ")"
            ],
            "execution_count": 36,
            "outputs": [
                {
                    "output_type": "stream",
                    "name": "stdout",
                    "text": [
                        "View the evaluation results for experiment: 'Deep Research Scoping-1f32f3db' at:\n",
                        "https://smith.langchain.com/o/a7249aeb-3cd5-47dc-abb1-0ae54ddd0baf/datasets/0b2e144b-218e-496f-bcef-7c67f2171e08/compare?selectedSessions=5539a3ea-9b5d-4d9a-804c-147cf2ffc2b7\n",
                        "\n",
                        "\n"
                    ]
                },
                {
                    "output_type": "display_data",
                    "data": {
                        "text/plain": [
                            "0it [00:00, ?it/s]"
                        ],
                        "application/vnd.jupyter.widget-view+json": {
                            "version_major": 2,
                            "version_minor": 0,
                            "model_id": "7636042d76604dc6b49ec194f0f089a8"
                        }
                    },
                    "metadata": {}
                },
                {
                    "output_type": "execute_result",
                    "data": {
                        "text/plain": [
                            "<ExperimentResults Deep Research Scoping-1f32f3db>"
                        ],
                        "text/html": [
                            "<div>\n",
                            "<style scoped>\n",
                            "    .dataframe tbody tr th:only-of-type {\n",
                            "        vertical-align: middle;\n",
                            "    }\n",
                            "\n",
                            "    .dataframe tbody tr th {\n",
                            "        vertical-align: top;\n",
                            "    }\n",
                            "\n",
                            "    .dataframe thead th {\n",
                            "        text-align: right;\n",
                            "    }\n",
                            "</style>\n",
                            "<table border=\"1\" class=\"dataframe\">\n",
                            "  <thead>\n",
                            "    <tr style=\"text-align: right;\">\n",
                            "      <th></th>\n",
                            "      <th>inputs.messages</th>\n",
                            "      <th>outputs.messages</th>\n",
                            "      <th>outputs.research_brief</th>\n",
                            "      <th>outputs.supervisor_messages</th>\n",
                            "      <th>outputs.raw_notes</th>\n",
                            "      <th>outputs.notes</th>\n",
                            "      <th>error</th>\n",
                            "      <th>reference.criteria</th>\n",
                            "      <th>feedback.success_criteria_score</th>\n",
                            "      <th>feedback.no_assumptions_score</th>\n",
                            "      <th>execution_time</th>\n",
                            "      <th>example_id</th>\n",
                            "      <th>id</th>\n",
                            "    </tr>\n",
                            "  </thead>\n",
                            "  <tbody>\n",
                            "    <tr>\n",
                            "      <th>0</th>\n",
                            "      <td>[{'type': 'human', 'content': 'What's the best...</td>\n",
                            "      <td>[content=\"What's the best way to invest $50,00...</td>\n",
                            "      <td>What are the best investment strategies for a ...</td>\n",
                            "      <td>[content='What are the best investment strateg...</td>\n",
                            "      <td>[]</td>\n",
                            "      <td>[]</td>\n",
                            "      <td>None</td>\n",
                            "      <td>[Current age is 25, Desired retirement age is ...</td>\n",
                            "      <td>1.0</td>\n",
                            "      <td>True</td>\n",
                            "      <td>3.54408</td>\n",
                            "      <td>2c5c116a-a568-4c33-a171-eb18b49a283d</td>\n",
                            "      <td>96126e76-4dfc-4c4f-9c4b-b51ec954bdd5</td>\n",
                            "    </tr>\n",
                            "    <tr>\n",
                            "      <th>1</th>\n",
                            "      <td>[{'type': 'human', 'content': 'I am looking fo...</td>\n",
                            "      <td>[content='I am looking for an apartment in NYC...</td>\n",
                            "      <td>I am seeking available 2-bedroom, 2-bathroom a...</td>\n",
                            "      <td>[content='I am seeking available 2-bedroom, 2-...</td>\n",
                            "      <td>[]</td>\n",
                            "      <td>[]</td>\n",
                            "      <td>None</td>\n",
                            "      <td>[Looking for a 2 bed 2 bath apartment in Chels...</td>\n",
                            "      <td>1.0</td>\n",
                            "      <td>True</td>\n",
                            "      <td>3.52007</td>\n",
                            "      <td>4b619605-960a-4ea7-832e-1a48c41fc935</td>\n",
                            "      <td>6619c5e0-2d95-4b38-9f58-bdf58077581f</td>\n",
                            "    </tr>\n",
                            "  </tbody>\n",
                            "</table>\n",
                            "</div>"
                        ]
                    },
                    "metadata": {},
                    "execution_count": 36
                }
            ]
        }
    ]
}
